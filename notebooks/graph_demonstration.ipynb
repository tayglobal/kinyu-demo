{
 "cells": [
  {
   "cell_type": "markdown",
   "metadata": {},
   "source": [
    "# Understanding kinyu.graph: Caching and Dependency Tracking\n",
    "\n",
    "This notebook demonstrates the core features of the `kinyu.graph` module. The `@g_func` decorator provides a powerful way to build a dependency graph of your functions, enabling automatic caching and intelligent re-computation."
   ]
  },
  {
   "cell_type": "markdown",
   "metadata": {},
   "source": [
    "## Caching for Performance\n",
    "\n",
    "One of the primary benefits of `kinyu.graph` is its caching capability. When you decorate a function with `@g_func`, the result of its first execution is stored. On subsequent calls with the same arguments, the cached result is returned instantly, avoiding expensive re-computation. This is particularly useful for functions that perform time-consuming tasks like I/O operations or complex numerical calculations."
   ]
  },
  {
   "cell_type": "markdown",
   "metadata": {},
   "source": [
    "## Dependency Tracking for Transparency\n",
    "\n",
    "`@g_func` automatically tracks the relationships between your functions. If `a()` calls `b()`, the graph registers that `a` depends on `b`. This dependency graph provides transparency into your calculation logic.\n",
    "\n",
    "More importantly, the graph uses this information to manage the cache intelligently. If you override the value of a node (e.g., `b`), the graph knows that all its ancestors (e.g., `a`) are now \"stale\" and must be re-executed on their next call. The cache for unrelated functions or descendants remains valid, ensuring maximal efficiency."
   ]
  },
  {
   "cell_type": "code",
   "execution_count": 1,
   "metadata": {
    "execution": {
     "iopub.execute_input": "2025-09-28T02:05:41.248963Z",
     "iopub.status.busy": "2025-09-28T02:05:41.248626Z",
     "iopub.status.idle": "2025-09-28T02:05:41.267313Z",
     "shell.execute_reply": "2025-09-28T02:05:41.266255Z"
    }
   },
   "outputs": [],
   "source": [
    "import time\n",
    "import pprint\n",
    "import sys\n",
    "\n",
    "# Add the src directory to the path to find the kinyu module\n",
    "sys.path.insert(0, '../src')\n",
    "\n",
    "from kinyu.graph import g_func, get_edges, override_value, clear_cache\n",
    "\n",
    "# We clear the cache at the start of each demonstration\n",
    "clear_cache()"
   ]
  },
  {
   "cell_type": "markdown",
   "metadata": {},
   "source": [
    "## Use Case 1: Standalone Functions\n",
    "\n",
    "This example demonstrates the basic usage of `@g_func` with simple, standalone functions. We'll create a dependency chain `a -> b -> c`, where `c` is an expensive operation."
   ]
  },
  {
   "cell_type": "code",
   "execution_count": 2,
   "metadata": {
    "execution": {
     "iopub.execute_input": "2025-09-28T02:05:41.270355Z",
     "iopub.status.busy": "2025-09-28T02:05:41.270061Z",
     "iopub.status.idle": "2025-09-28T02:05:41.787203Z",
     "shell.execute_reply": "2025-09-28T02:05:41.785935Z"
    }
   },
   "outputs": [
    {
     "name": "stdout",
     "output_type": "stream",
     "text": [
      "--- First execution of a() ---\n",
      "Executing a()...\n",
      "Executing b()...\n",
      "Executing c() (expensive operation)...\n"
     ]
    },
    {
     "name": "stdout",
     "output_type": "stream",
     "text": [
      "Result: 30, Duration: 0.51s\n",
      "\n",
      "--- Second execution of a() (from cache) ---\n",
      "Result: 30, Duration: 0.00s\n",
      "\n",
      "--- Dependency Graph Edges ---\n",
      "[('b(*(), **frozendict.frozendict({}))', 'c(*(), **frozendict.frozendict({}))'),\n",
      " ('a(*(), **frozendict.frozendict({}))', 'b(*(), **frozendict.frozendict({}))')]\n",
      "\n",
      "--- Overriding c() and re-executing a() ---\n",
      "Executing a()...\n",
      "Executing b()...\n",
      "New Result: 220\n"
     ]
    }
   ],
   "source": [
    "@g_func\n",
    "def a():\n",
    "    print(\"Executing a()...\")\n",
    "    return b() * 2\n",
    "\n",
    "@g_func\n",
    "def b():\n",
    "    print(\"Executing b()...\")\n",
    "    return c() + 10\n",
    "\n",
    "@g_func\n",
    "def c():\n",
    "    print(\"Executing c() (expensive operation)...\")\n",
    "    time.sleep(0.5)\n",
    "    return 5\n",
    "\n",
    "print(\"--- First execution of a() ---\")\n",
    "start_time = time.time()\n",
    "result = a()\n",
    "duration = time.time() - start_time\n",
    "print(f\"Result: {result}, Duration: {duration:.2f}s\\n\")\n",
    "\n",
    "print(\"--- Second execution of a() (from cache) ---\")\n",
    "start_time = time.time()\n",
    "result = a()\n",
    "duration = time.time() - start_time\n",
    "print(f\"Result: {result}, Duration: {duration:.2f}s\\n\")\n",
    "\n",
    "print(\"--- Dependency Graph Edges ---\")\n",
    "pprint.pprint(get_edges())\n",
    "print(\"\")\n",
    "\n",
    "print(\"--- Overriding c() and re-executing a() ---\")\n",
    "override_value('c', 100)\n",
    "result = a()\n",
    "print(f\"New Result: {result}\")"
   ]
  },
  {
   "cell_type": "markdown",
   "metadata": {},
   "source": [
    "## Use Case 2: Instance Methods\n",
    "\n",
    "The `@g_func` decorator is also aware of object instances. When applied to a method, the identity of the instance (`self`) is included in the cache key. This means that calls to the same method on *different objects* are treated as distinct nodes in the graph.\n",
    "\n",
    "This is crucial for object-oriented designs where multiple instances of a class perform similar but independent calculations."
   ]
  },
  {
   "cell_type": "code",
   "execution_count": 3,
   "metadata": {
    "execution": {
     "iopub.execute_input": "2025-09-28T02:05:41.790637Z",
     "iopub.status.busy": "2025-09-28T02:05:41.790208Z",
     "iopub.status.idle": "2025-09-28T02:05:42.803978Z",
     "shell.execute_reply": "2025-09-28T02:05:42.802907Z"
    }
   },
   "outputs": [
    {
     "name": "stdout",
     "output_type": "stream",
     "text": [
      "Created Calculator_1 with base value 100\n",
      "Created Calculator_2 with base value 500\n",
      "\n",
      "--- Executing on Calculator_1 ---\n",
      "Executing final_result() for Calculator_1...\n",
      "Executing intermediate_step() for Calculator_1...\n",
      "Executing expensive_operation() for Calculator_1...\n"
     ]
    },
    {
     "name": "stdout",
     "output_type": "stream",
     "text": [
      "Result for Calculator_1: 220\n",
      "\n",
      "--- Executing on Calculator_2 ---\n",
      "Executing final_result() for Calculator_2...\n",
      "Executing intermediate_step() for Calculator_2...\n",
      "Executing expensive_operation() for Calculator_2...\n"
     ]
    },
    {
     "name": "stdout",
     "output_type": "stream",
     "text": [
      "Result for Calculator_2: 1020\n",
      "\n",
      "--- Re-executing on Calculator_1 (should be cached) ---\n",
      "Cached result for Calculator_1: 220\n",
      "\n",
      "--- Overriding a value on Calculator_2 only ---\n",
      "Executing final_result() for Calculator_2...\n",
      "Executing intermediate_step() for Calculator_2...\n",
      "New result for Calculator_2 after override: 3000\n",
      "\n",
      "--- Final Dependency Graph ---\n",
      "[('intermediate_step[0x7f8f046acec0](*(), **frozendict.frozendict({}))',\n",
      "  'expensive_operation[0x7f8f046acec0](*(), **frozendict.frozendict({}))'),\n",
      " ('final_result[0x7f8f046acec0](*(), **frozendict.frozendict({}))',\n",
      "  'intermediate_step[0x7f8f046acec0](*(), **frozendict.frozendict({}))'),\n",
      " ('final_result[0x7f8f046ace30](*(), **frozendict.frozendict({}))',\n",
      "  'intermediate_step[0x7f8f046ace30](*(), **frozendict.frozendict({}))'),\n",
      " ('intermediate_step[0x7f8f046ace30](*(), **frozendict.frozendict({}))',\n",
      "  'expensive_operation[0x7f8f046ace30](*(), **frozendict.frozendict({}))')]\n"
     ]
    }
   ],
   "source": [
    "class MyCalculator:\n",
    "    def __init__(self, name, base_value):\n",
    "        self.name = name\n",
    "        self.base_value = base_value\n",
    "        print(f\"Created {self.name} with base value {self.base_value}\")\n",
    "\n",
    "    @g_func\n",
    "    def intermediate_step(self):\n",
    "        print(f\"Executing intermediate_step() for {self.name}...\")\n",
    "        return self.expensive_operation() + self.base_value\n",
    "\n",
    "    @g_func\n",
    "    def final_result(self):\n",
    "        print(f\"Executing final_result() for {self.name}...\")\n",
    "        return self.intermediate_step() * 2\n",
    "\n",
    "    @g_func\n",
    "    def expensive_operation(self):\n",
    "        print(f\"Executing expensive_operation() for {self.name}...\")\n",
    "        time.sleep(0.5)\n",
    "        return 10\n",
    "\n",
    "# Clear cache to start fresh\n",
    "clear_cache()\n",
    "\n",
    "# Create two independent calculator instances\n",
    "calc1 = MyCalculator(\"Calculator_1\", 100)\n",
    "calc2 = MyCalculator(\"Calculator_2\", 500)\n",
    "print(\"\")\n",
    "\n",
    "print(\"--- Executing on Calculator_1 ---\")\n",
    "result1 = calc1.final_result()\n",
    "print(f\"Result for {calc1.name}: {result1}\\n\")\n",
    "\n",
    "print(\"--- Executing on Calculator_2 ---\")\n",
    "result2 = calc2.final_result()\n",
    "print(f\"Result for {calc2.name}: {result2}\\n\")\n",
    "\n",
    "print(\"--- Re-executing on Calculator_1 (should be cached) ---\")\n",
    "result1_cached = calc1.final_result()\n",
    "print(f\"Cached result for {calc1.name}: {result1_cached}\\n\")\n",
    "\n",
    "print(\"--- Overriding a value on Calculator_2 only ---\")\n",
    "override_value('expensive_operation', 1000, instance=calc2)\n",
    "new_result2 = calc2.final_result()\n",
    "print(f\"New result for {calc2.name} after override: {new_result2}\\n\")\n",
    "\n",
    "print(\"--- Final Dependency Graph ---\")\n",
    "pprint.pprint(get_edges())"
   ]
  }
 ],
 "metadata": {
  "kernelspec": {
   "display_name": "Python 3",
   "language": "python",
   "name": "python3"
  },
  "language_info": {
   "codemirror_mode": {
    "name": "ipython",
    "version": 3
   },
   "file_extension": ".py",
   "mimetype": "text/x-python",
   "name": "python",
   "nbconvert_exporter": "python",
   "pygments_lexer": "ipython3",
   "version": "3.12.11"
  }
 },
 "nbformat": 4,
 "nbformat_minor": 2
}
