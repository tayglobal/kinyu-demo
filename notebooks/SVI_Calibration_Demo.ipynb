{
 "cells": [
  {
   "cell_type": "markdown",
   "metadata": {},
   "source": [
    "# SVI Volatility Surface Calibration Demo\n",
    "\n",
    "This notebook demonstrates how to use the `implied` Rust library with Python bindings to calibrate an SVI (Stochastic Volatility Inspired) volatility surface from a set of option prices."
   ]
  },
  {
   "cell_type": "markdown",
   "metadata": {},
   "source": [
    "## 1. Installation\n",
    "\n",
    "This notebook assumes the `implied` library has been installed from the wheel. We also need to install `pandas`, `numpy`, and `plotly` for data manipulation and visualization."
   ]
  },
  {
   "cell_type": "code",
   "execution_count": 1,
   "metadata": {
    "execution": {
     "iopub.execute_input": "2025-09-28T04:52:13.684712Z",
     "iopub.status.busy": "2025-09-28T04:52:13.684400Z",
     "iopub.status.idle": "2025-09-28T04:52:14.876448Z",
     "shell.execute_reply": "2025-09-28T04:52:14.874916Z"
    }
   },
   "outputs": [
    {
     "name": "stdout",
     "output_type": "stream",
     "text": [
      "Requirement already satisfied: pandas in /home/jules/.pyenv/versions/3.12.11/lib/python3.12/site-packages (2.3.2)\r\n",
      "Requirement already satisfied: numpy in /home/jules/.pyenv/versions/3.12.11/lib/python3.12/site-packages (2.3.3)\r\n",
      "Requirement already satisfied: plotly in /home/jules/.pyenv/versions/3.12.11/lib/python3.12/site-packages (6.3.0)\r\n",
      "Requirement already satisfied: scipy in /home/jules/.pyenv/versions/3.12.11/lib/python3.12/site-packages (1.16.2)\r\n",
      "Requirement already satisfied: python-dateutil>=2.8.2 in /home/jules/.pyenv/versions/3.12.11/lib/python3.12/site-packages (from pandas) (2.9.0.post0)\r\n",
      "Requirement already satisfied: pytz>=2020.1 in /home/jules/.pyenv/versions/3.12.11/lib/python3.12/site-packages (from pandas) (2025.2)\r\n",
      "Requirement already satisfied: tzdata>=2022.7 in /home/jules/.pyenv/versions/3.12.11/lib/python3.12/site-packages (from pandas) (2025.2)\r\n"
     ]
    },
    {
     "name": "stdout",
     "output_type": "stream",
     "text": [
      "Requirement already satisfied: narwhals>=1.15.1 in /home/jules/.pyenv/versions/3.12.11/lib/python3.12/site-packages (from plotly) (2.5.0)\r\n",
      "Requirement already satisfied: packaging in /home/jules/.pyenv/versions/3.12.11/lib/python3.12/site-packages (from plotly) (25.0)\r\n",
      "Requirement already satisfied: six>=1.5 in /home/jules/.pyenv/versions/3.12.11/lib/python3.12/site-packages (from python-dateutil>=2.8.2->pandas) (1.17.0)\r\n"
     ]
    },
    {
     "name": "stdout",
     "output_type": "stream",
     "text": [
      "\r\n",
      "\u001b[1m[\u001b[0m\u001b[34;49mnotice\u001b[0m\u001b[1;39;49m]\u001b[0m\u001b[39;49m A new release of pip is available: \u001b[0m\u001b[31;49m25.1.1\u001b[0m\u001b[39;49m -> \u001b[0m\u001b[32;49m25.2\u001b[0m\r\n",
      "\u001b[1m[\u001b[0m\u001b[34;49mnotice\u001b[0m\u001b[1;39;49m]\u001b[0m\u001b[39;49m To update, run: \u001b[0m\u001b[32;49mpip install --upgrade pip\u001b[0m\r\n"
     ]
    }
   ],
   "source": [
    "!pip install pandas numpy plotly scipy"
   ]
  },
  {
   "cell_type": "markdown",
   "metadata": {},
   "source": [
    "## 2. Imports\n",
    "\n",
    "Now, let's import the necessary libraries."
   ]
  },
  {
   "cell_type": "code",
   "execution_count": 2,
   "metadata": {
    "execution": {
     "iopub.execute_input": "2025-09-28T04:52:14.880908Z",
     "iopub.status.busy": "2025-09-28T04:52:14.880538Z",
     "iopub.status.idle": "2025-09-28T04:52:15.309378Z",
     "shell.execute_reply": "2025-09-28T04:52:15.308041Z"
    }
   },
   "outputs": [],
   "source": [
    "import numpy as np\n",
    "import pandas as pd\n",
    "import plotly.graph_objects as go\n",
    "from implied import OptionData, OptionType, SVIVolatilitySurface, SVIParameters, black_scholes_price_py, implied_volatility_py, CalibrationError"
   ]
  },
  {
   "cell_type": "markdown",
   "metadata": {},
   "source": [
    "## 3. Data Generation\n",
    "\n",
    "To test the calibration, we will generate a realistic set of option prices. We'll create a synthetic market where the \"true\" volatility smile is governed by a known set of SVI parameters for two different expiries (1 year and 2 years)."
   ]
  },
  {
   "cell_type": "code",
   "execution_count": 3,
   "metadata": {
    "execution": {
     "iopub.execute_input": "2025-09-28T04:52:15.313444Z",
     "iopub.status.busy": "2025-09-28T04:52:15.312964Z",
     "iopub.status.idle": "2025-09-28T04:52:15.324548Z",
     "shell.execute_reply": "2025-09-28T04:52:15.323539Z"
    }
   },
   "outputs": [
    {
     "name": "stdout",
     "output_type": "stream",
     "text": [
      "Generated 100 options.\n"
     ]
    }
   ],
   "source": [
    "def generate_realistic_options(num_options, expiry, true_svi):\n",
    "    spot = 100.0\n",
    "    risk_free_rate = 0.05\n",
    "    options = []\n",
    "    for _ in range(num_options):\n",
    "        strike = np.random.uniform(80, 120)\n",
    "        \n",
    "        # Create a temporary OptionData to calculate moneyness\n",
    "        temp_opt = OptionData(strike=strike, spot=spot, expiry=expiry, price=0, risk_free_rate=risk_free_rate, option_type=OptionType.Call)\n",
    "        moneyness = temp_opt.moneyness()\n",
    "        \n",
    "        total_variance = true_svi.a + true_svi.b * (true_svi.rho * (moneyness - true_svi.m) + np.sqrt((moneyness - true_svi.m)**2 + true_svi.sigma**2))\n",
    "        if total_variance < 0:\n",
    "            continue\n",
    "        \n",
    "        vol = np.sqrt(total_variance / expiry)\n",
    "        price = black_scholes_price_py(spot, strike, risk_free_rate, expiry, vol, OptionType.Call)\n",
    "        \n",
    "        options.append(OptionData(\n",
    "            strike=strike, \n",
    "            spot=spot, \n",
    "            expiry=expiry, \n",
    "            price=price, \n",
    "            risk_free_rate=risk_free_rate, \n",
    "            option_type=OptionType.Call\n",
    "        ))\n",
    "    return options\n",
    "\n",
    "# Define the \"true\" SVI parameters for our synthetic market\n",
    "true_svi_1y = SVIParameters(a=0.04, b=0.4, rho=-0.7, m=0.1, sigma=0.2)\n",
    "true_svi_2y = SVIParameters(a=0.035, b=0.35, rho=-0.65, m=0.12, sigma=0.22)\n",
    "\n",
    "# Generate options for two expiries\n",
    "options_1y = generate_realistic_options(50, 1.0, true_svi_1y)\n",
    "options_2y = generate_realistic_options(50, 2.0, true_svi_2y)\n",
    "all_options = options_1y + options_2y\n",
    "\n",
    "print(f\"Generated {len(all_options)} options.\")"
   ]
  },
  {
   "cell_type": "markdown",
   "metadata": {},
   "source": [
    "## 4. Calibrate the SVI Surface\n",
    "\n",
    "Now, we pass the list of `OptionData` objects to the `SVIVolatilitySurface.calibrate` method. The Rust backend will group the options by expiry, calibrate a separate SVI slice for each, and return a surface object."
   ]
  },
  {
   "cell_type": "code",
   "execution_count": 4,
   "metadata": {
    "execution": {
     "iopub.execute_input": "2025-09-28T04:52:15.327912Z",
     "iopub.status.busy": "2025-09-28T04:52:15.327576Z",
     "iopub.status.idle": "2025-09-28T04:52:15.594787Z",
     "shell.execute_reply": "2025-09-28T04:52:15.593519Z"
    }
   },
   "outputs": [
    {
     "name": "stdout",
     "output_type": "stream",
     "text": [
      "SVI surface calibrated successfully!\n"
     ]
    }
   ],
   "source": [
    "try:\n",
    "    surface = SVIVolatilitySurface.calibrate(all_options)\n",
    "    print(\"SVI surface calibrated successfully!\")\n",
    "except CalibrationError as e:\n",
    "    print(f\"Calibration failed: {e}\")"
   ]
  },
  {
   "cell_type": "markdown",
   "metadata": {},
   "source": [
    "## 5. Query the Volatility Surface\n",
    "\n",
    "We can now use the `volatility` method on the calibrated surface to get the implied volatility for any moneyness and expiry. The library will find the closest calibrated expiry slice to the one requested."
   ]
  },
  {
   "cell_type": "code",
   "execution_count": 5,
   "metadata": {
    "execution": {
     "iopub.execute_input": "2025-09-28T04:52:15.598533Z",
     "iopub.status.busy": "2025-09-28T04:52:15.598185Z",
     "iopub.status.idle": "2025-09-28T04:52:15.604569Z",
     "shell.execute_reply": "2025-09-28T04:52:15.603570Z"
    }
   },
   "outputs": [
    {
     "name": "stdout",
     "output_type": "stream",
     "text": [
      "Volatility at moneyness=0.05, expiry=1.0y: 0.3694\n",
      "Volatility at moneyness=0.05, expiry=1.1y: 0.3694\n",
      "Volatility at moneyness=0.05, expiry=1.8y: 0.2566\n"
     ]
    }
   ],
   "source": [
    "# Exact expiry match\n",
    "vol_1y = surface.volatility(moneyness=0.05, expiry=1.0)\n",
    "print(f\"Volatility at moneyness=0.05, expiry=1.0y: {vol_1y:.4f}\")\n",
    "\n",
    "# Closest expiry match\n",
    "vol_1_1y = surface.volatility(moneyness=0.05, expiry=1.1) # Should use the 1.0y slice\n",
    "print(f\"Volatility at moneyness=0.05, expiry=1.1y: {vol_1_1y:.4f}\")\n",
    "\n",
    "vol_1_8y = surface.volatility(moneyness=0.05, expiry=1.8) # Should use the 2.0y slice\n",
    "print(f\"Volatility at moneyness=0.05, expiry=1.8y: {vol_1_8y:.4f}\")"
   ]
  },
  {
   "cell_type": "markdown",
   "metadata": {},
   "source": [
    "## 6. Visualize the Calibrated Surface\n",
    "\n",
    "Finally, let's visualize the result. We will create a 3D plot showing the calibrated SVI surface and overlay the original market data points (our synthetic options) to see how well the model fits."
   ]
  },
  {
   "cell_type": "code",
   "execution_count": 6,
   "metadata": {
    "execution": {
     "iopub.execute_input": "2025-09-28T04:52:15.608178Z",
     "iopub.status.busy": "2025-09-28T04:52:15.607829Z",
     "iopub.status.idle": "2025-09-28T04:52:18.065699Z",
     "shell.execute_reply": "2025-09-28T04:52:18.064577Z"
    }
   },
   "outputs": [
    {
     "data": {
      "application/vnd.plotly.v1+json": {
       "config": {
        "plotlyServerURL": "https://plot.ly"
       },
       "data": [
        {
         "colorscale": [
          [
           0.0,
           "#440154"
          ],
          [
           0.1111111111111111,
           "#482878"
          ],
          [
           0.2222222222222222,
           "#3e4989"
          ],
          [
           0.3333333333333333,
           "#31688e"
          ],
          [
           0.4444444444444444,
           "#26828e"
          ],
          [
           0.5555555555555556,
           "#1f9e89"
          ],
          [
           0.6666666666666666,
           "#35b779"
          ],
          [
           0.7777777777777778,
           "#6ece58"
          ],
          [
           0.8888888888888888,
           "#b5de2b"
          ],
          [
           1.0,
           "#fde725"
          ]
         ],
         "name": "Calibrated SVI Surface",
         "opacity": 0.8,
         "type": "surface",
         "x": {
          "bdata": "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",
          "dtype": "f8",
          "shape": "25, 50"
         },
         "y": {
          "bdata": "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",
          "dtype": "f8",
          "shape": "25, 50"
         },
         "z": {
          "bdata": "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",
          "dtype": "f8",
          "shape": "25, 50"
         }
        },
        {
         "marker": {
          "color": "red",
          "size": 4,
          "symbol": "circle"
         },
         "mode": "markers",
         "name": "Market Data",
         "type": "scatter3d",
         "x": {
          "bdata": "JvFRGG6Lwb/NXjlHEWC3v81mPUBgY7O/zcc1F3igvb+NS+W/3Lawv0aM7k9sKsC/DQFpYDq9tL+mIYFiAwPMv8aOJvp6G8S/DczXryx6sr/mBoYsh3HEv+btxHfzoMO/M/ah5tTvsT80pzI6vwyXv2a5SrnEY6c/4+7q3beT0L+zbB0JR5S9P7OetA/QAr0/0GzDsQyLfL+acEbP7lauv+YK2o/ygMW/Y78ln9WB0L/MpdZWcqiQP8YxpNP9Ksm/M3duYxbz0L8a0kFgfvisv9OlpcO3aNG/s8pRSzQ7tz+mC6s7H73Ev02EEfJX8be/GknQEgBYqL9N1XEasci6vzRKJbfc2pi/Zn7g7CFLqT8N1F8z8OO3v2b1fdgihKM/jdVs9Lq5ub80Sm1IIryUv5otsJJ+86O/JqfKyzuLy7/z8VfgVOewP4ZmlDXiIMO/Jryz2eytw79mGeNWiIXMv7PvNJ2yR7k/MN9FAvLcdD/NQBhl9Smzv2bpFLOc+Ks/s8nI9Gpz0b+mmV88RWPGv0w+FNdOT6U/DV2tmc4Hwb/mGefXUGbQvwDQHJg1Kw2/Gs7QHTY7tr+tmJ9NlFjJv8z79fje+Kk/Rs72Moqz0b8NCAYDylfLv7TrxVsZj6W/DT5vVnVewb9mtJ578mnSv82snmJkism/oI1Jeye4db8tqvWCCrzCv5jNLCNesZo/zFoYjmQHoz/NMZvLtCTAvzBxHB4LY4Y/TY6J+H2Uxr8G/SRORqzTv+2LvixLZ8u/Ztxq0IW30b8tpat9VE/Fv1owSxvFcbe/rQgb99ypy78mlq6+y+OzPw2uGYMB+c2/ZjxCvsLJsz8ATKX8ia0gP2ByaNaAjnQ/NC24FBPhqb/Nyq3q7qfOvxpTEWlxlb2/Jl2wb+2xsT8t+xjgQ8HJv8xdJtTN8Ks/TY9CWVO2xb8avxW1L/y5v+14cX1kgcq/mBSu8npKmj+YbzI7iWWTP+3CVlrQps2/Wo0bNUrHuL8wBx0dljWFP7Rz2+bEBau/MOEClCb5gD/aK/r1+9C8v03Z2O7iQMy/aN5AYj/rkb8=",
          "dtype": "f8"
         },
         "y": {
          "bdata": "AAAAAAAA8D8AAAAAAADwPwAAAAAAAPA/AAAAAAAA8D8AAAAAAADwPwAAAAAAAPA/AAAAAAAA8D8AAAAAAADwPwAAAAAAAPA/AAAAAAAA8D8AAAAAAADwPwAAAAAAAPA/AAAAAAAA8D8AAAAAAADwPwAAAAAAAPA/AAAAAAAA8D8AAAAAAADwPwAAAAAAAPA/AAAAAAAA8D8AAAAAAADwPwAAAAAAAPA/AAAAAAAA8D8AAAAAAADwPwAAAAAAAPA/AAAAAAAA8D8AAAAAAADwPwAAAAAAAPA/AAAAAAAA8D8AAAAAAADwPwAAAAAAAPA/AAAAAAAA8D8AAAAAAADwPwAAAAAAAPA/AAAAAAAA8D8AAAAAAADwPwAAAAAAAPA/AAAAAAAA8D8AAAAAAADwPwAAAAAAAPA/AAAAAAAA8D8AAAAAAADwPwAAAAAAAPA/AAAAAAAA8D8AAAAAAADwPwAAAAAAAPA/AAAAAAAA8D8AAAAAAADwPwAAAAAAAPA/AAAAAAAA8D8AAAAAAADwPwAAAAAAAABAAAAAAAAAAEAAAAAAAAAAQAAAAAAAAABAAAAAAAAAAEAAAAAAAAAAQAAAAAAAAABAAAAAAAAAAEAAAAAAAAAAQAAAAAAAAABAAAAAAAAAAEAAAAAAAAAAQAAAAAAAAABAAAAAAAAAAEAAAAAAAAAAQAAAAAAAAABAAAAAAAAAAEAAAAAAAAAAQAAAAAAAAABAAAAAAAAAAEAAAAAAAAAAQAAAAAAAAABAAAAAAAAAAEAAAAAAAAAAQAAAAAAAAABAAAAAAAAAAEAAAAAAAAAAQAAAAAAAAABAAAAAAAAAAEAAAAAAAAAAQAAAAAAAAABAAAAAAAAAAEAAAAAAAAAAQAAAAAAAAABAAAAAAAAAAEAAAAAAAAAAQAAAAAAAAABAAAAAAAAAAEAAAAAAAAAAQAAAAAAAAABAAAAAAAAAAEAAAAAAAAAAQAAAAAAAAABAAAAAAAAAAEAAAAAAAAAAQAAAAAAAAABAAAAAAAAAAEAAAAAAAAAAQAAAAAAAAABAAAAAAAAAAEA=",
          "dtype": "f8"
         },
         "z": {
          "bdata": "rhbHgxK53j8CRpXaAe3cPw1ZdVX5T9w/HvU/dRPj3T9WWVfY3ebbPyibdVgyTd4/V0xtzSiF3D9xJDBWde3gP04kBjRqgN8/ADpwPSMs3D8aNtBKb5rfPw3RzmRPW98/nK1FaskC1z9daFFZzj3aP5GLGGy8yNc/QjxBT4Sr4T/l7hm9hMnVP2EkUI7r1tU/QDPffWen2T9b6fPjS6rbP2sk7X5M7N8/hTgaJ2um4T9f1YnpKM3YP4HDMQ1GguA/dIc1VKTG4T/sWcCyf4/bPykZawH05+E/bJTB0IZq1j/PQkp5RLHfP7WC979dA90//K9hiys12z84VmCmRHPdP5+E9fIKT9o/u9dFNmOp1z852XqXTQHdPyCTMUKxCdg/sAya4JdJ3T9pSogDwCfaP9ADEY/a39o/c7p1J+zb4D87BBzMQCLXP/AFzbJ2NN8/ZyzU7T1f3z8WdvJwhQDhP+UrGNrjM9Y/bh/INfg02T8Osaj6JUfcPwewpPT4fdc/Bh7qqfnq4T8nA5wxJxjgPxi09LDvmdA/znkRih681D9vTXlJyKbXP0UFO/Jqh9E/8IwIWNKb0z9tA0o+VEvWP6OSCNzuaNA/KnbpenYd2D9dW/DrfanWPzndXIrShdI/ClEmzozM1D+kwos00l3YP+7VMX+JVNY/86wnRYmm0T+LO2ZVtg7VPzsN4H1D8NA/Xd6WAVey0D96/GlaAZHUPyLp2U8FR9E/zPDRobbH1T/1tgphfc7YP8M3FgBWrNY/tPxWaN8e2D9Rsprr2IrVPwX3HxttudM/U7VF+om41j8YvALVXL/PPyFKeqdRJNc/YwWFyDfDzz+lQSlRVobRP5XBHVaKadE/MgM3iui50j+9+N3hAUTXPwiDmVIzT9Q/r3+D8e8J0D/f914mrF7WPydFLm6eVNA/HgtQcCee1T8N2OZqb/fTP5ZS050XgtY//zOOMXvy0D+k4wLoyxjRPxbxwaNlFdc/wKXxn/zZ0z/NHpoCXUrRP0RkVBa7x9I/IEns7mlW0T9ysgwKfzzUPza6Frcs1NY/wzfeCajv0T8=",
          "dtype": "f8"
         }
        }
       ],
       "layout": {
        "height": 700,
        "scene": {
         "xaxis": {
          "title": {
           "text": "Log-Forward Moneyness (k)"
          }
         },
         "yaxis": {
          "title": {
           "text": "Expiry (T)"
          }
         },
         "zaxis": {
          "title": {
           "text": "Implied Volatility"
          }
         }
        },
        "template": {
         "data": {
          "bar": [
           {
            "error_x": {
             "color": "#2a3f5f"
            },
            "error_y": {
             "color": "#2a3f5f"
            },
            "marker": {
             "line": {
              "color": "#E5ECF6",
              "width": 0.5
             },
             "pattern": {
              "fillmode": "overlay",
              "size": 10,
              "solidity": 0.2
             }
            },
            "type": "bar"
           }
          ],
          "barpolar": [
           {
            "marker": {
             "line": {
              "color": "#E5ECF6",
              "width": 0.5
             },
             "pattern": {
              "fillmode": "overlay",
              "size": 10,
              "solidity": 0.2
             }
            },
            "type": "barpolar"
           }
          ],
          "carpet": [
           {
            "aaxis": {
             "endlinecolor": "#2a3f5f",
             "gridcolor": "white",
             "linecolor": "white",
             "minorgridcolor": "white",
             "startlinecolor": "#2a3f5f"
            },
            "baxis": {
             "endlinecolor": "#2a3f5f",
             "gridcolor": "white",
             "linecolor": "white",
             "minorgridcolor": "white",
             "startlinecolor": "#2a3f5f"
            },
            "type": "carpet"
           }
          ],
          "choropleth": [
           {
            "colorbar": {
             "outlinewidth": 0,
             "ticks": ""
            },
            "type": "choropleth"
           }
          ],
          "contour": [
           {
            "colorbar": {
             "outlinewidth": 0,
             "ticks": ""
            },
            "colorscale": [
             [
              0.0,
              "#0d0887"
             ],
             [
              0.1111111111111111,
              "#46039f"
             ],
             [
              0.2222222222222222,
              "#7201a8"
             ],
             [
              0.3333333333333333,
              "#9c179e"
             ],
             [
              0.4444444444444444,
              "#bd3786"
             ],
             [
              0.5555555555555556,
              "#d8576b"
             ],
             [
              0.6666666666666666,
              "#ed7953"
             ],
             [
              0.7777777777777778,
              "#fb9f3a"
             ],
             [
              0.8888888888888888,
              "#fdca26"
             ],
             [
              1.0,
              "#f0f921"
             ]
            ],
            "type": "contour"
           }
          ],
          "contourcarpet": [
           {
            "colorbar": {
             "outlinewidth": 0,
             "ticks": ""
            },
            "type": "contourcarpet"
           }
          ],
          "heatmap": [
           {
            "colorbar": {
             "outlinewidth": 0,
             "ticks": ""
            },
            "colorscale": [
             [
              0.0,
              "#0d0887"
             ],
             [
              0.1111111111111111,
              "#46039f"
             ],
             [
              0.2222222222222222,
              "#7201a8"
             ],
             [
              0.3333333333333333,
              "#9c179e"
             ],
             [
              0.4444444444444444,
              "#bd3786"
             ],
             [
              0.5555555555555556,
              "#d8576b"
             ],
             [
              0.6666666666666666,
              "#ed7953"
             ],
             [
              0.7777777777777778,
              "#fb9f3a"
             ],
             [
              0.8888888888888888,
              "#fdca26"
             ],
             [
              1.0,
              "#f0f921"
             ]
            ],
            "type": "heatmap"
           }
          ],
          "histogram": [
           {
            "marker": {
             "pattern": {
              "fillmode": "overlay",
              "size": 10,
              "solidity": 0.2
             }
            },
            "type": "histogram"
           }
          ],
          "histogram2d": [
           {
            "colorbar": {
             "outlinewidth": 0,
             "ticks": ""
            },
            "colorscale": [
             [
              0.0,
              "#0d0887"
             ],
             [
              0.1111111111111111,
              "#46039f"
             ],
             [
              0.2222222222222222,
              "#7201a8"
             ],
             [
              0.3333333333333333,
              "#9c179e"
             ],
             [
              0.4444444444444444,
              "#bd3786"
             ],
             [
              0.5555555555555556,
              "#d8576b"
             ],
             [
              0.6666666666666666,
              "#ed7953"
             ],
             [
              0.7777777777777778,
              "#fb9f3a"
             ],
             [
              0.8888888888888888,
              "#fdca26"
             ],
             [
              1.0,
              "#f0f921"
             ]
            ],
            "type": "histogram2d"
           }
          ],
          "histogram2dcontour": [
           {
            "colorbar": {
             "outlinewidth": 0,
             "ticks": ""
            },
            "colorscale": [
             [
              0.0,
              "#0d0887"
             ],
             [
              0.1111111111111111,
              "#46039f"
             ],
             [
              0.2222222222222222,
              "#7201a8"
             ],
             [
              0.3333333333333333,
              "#9c179e"
             ],
             [
              0.4444444444444444,
              "#bd3786"
             ],
             [
              0.5555555555555556,
              "#d8576b"
             ],
             [
              0.6666666666666666,
              "#ed7953"
             ],
             [
              0.7777777777777778,
              "#fb9f3a"
             ],
             [
              0.8888888888888888,
              "#fdca26"
             ],
             [
              1.0,
              "#f0f921"
             ]
            ],
            "type": "histogram2dcontour"
           }
          ],
          "mesh3d": [
           {
            "colorbar": {
             "outlinewidth": 0,
             "ticks": ""
            },
            "type": "mesh3d"
           }
          ],
          "parcoords": [
           {
            "line": {
             "colorbar": {
              "outlinewidth": 0,
              "ticks": ""
             }
            },
            "type": "parcoords"
           }
          ],
          "pie": [
           {
            "automargin": true,
            "type": "pie"
           }
          ],
          "scatter": [
           {
            "fillpattern": {
             "fillmode": "overlay",
             "size": 10,
             "solidity": 0.2
            },
            "type": "scatter"
           }
          ],
          "scatter3d": [
           {
            "line": {
             "colorbar": {
              "outlinewidth": 0,
              "ticks": ""
             }
            },
            "marker": {
             "colorbar": {
              "outlinewidth": 0,
              "ticks": ""
             }
            },
            "type": "scatter3d"
           }
          ],
          "scattercarpet": [
           {
            "marker": {
             "colorbar": {
              "outlinewidth": 0,
              "ticks": ""
             }
            },
            "type": "scattercarpet"
           }
          ],
          "scattergeo": [
           {
            "marker": {
             "colorbar": {
              "outlinewidth": 0,
              "ticks": ""
             }
            },
            "type": "scattergeo"
           }
          ],
          "scattergl": [
           {
            "marker": {
             "colorbar": {
              "outlinewidth": 0,
              "ticks": ""
             }
            },
            "type": "scattergl"
           }
          ],
          "scattermap": [
           {
            "marker": {
             "colorbar": {
              "outlinewidth": 0,
              "ticks": ""
             }
            },
            "type": "scattermap"
           }
          ],
          "scattermapbox": [
           {
            "marker": {
             "colorbar": {
              "outlinewidth": 0,
              "ticks": ""
             }
            },
            "type": "scattermapbox"
           }
          ],
          "scatterpolar": [
           {
            "marker": {
             "colorbar": {
              "outlinewidth": 0,
              "ticks": ""
             }
            },
            "type": "scatterpolar"
           }
          ],
          "scatterpolargl": [
           {
            "marker": {
             "colorbar": {
              "outlinewidth": 0,
              "ticks": ""
             }
            },
            "type": "scatterpolargl"
           }
          ],
          "scatterternary": [
           {
            "marker": {
             "colorbar": {
              "outlinewidth": 0,
              "ticks": ""
             }
            },
            "type": "scatterternary"
           }
          ],
          "surface": [
           {
            "colorbar": {
             "outlinewidth": 0,
             "ticks": ""
            },
            "colorscale": [
             [
              0.0,
              "#0d0887"
             ],
             [
              0.1111111111111111,
              "#46039f"
             ],
             [
              0.2222222222222222,
              "#7201a8"
             ],
             [
              0.3333333333333333,
              "#9c179e"
             ],
             [
              0.4444444444444444,
              "#bd3786"
             ],
             [
              0.5555555555555556,
              "#d8576b"
             ],
             [
              0.6666666666666666,
              "#ed7953"
             ],
             [
              0.7777777777777778,
              "#fb9f3a"
             ],
             [
              0.8888888888888888,
              "#fdca26"
             ],
             [
              1.0,
              "#f0f921"
             ]
            ],
            "type": "surface"
           }
          ],
          "table": [
           {
            "cells": {
             "fill": {
              "color": "#EBF0F8"
             },
             "line": {
              "color": "white"
             }
            },
            "header": {
             "fill": {
              "color": "#C8D4E3"
             },
             "line": {
              "color": "white"
             }
            },
            "type": "table"
           }
          ]
         },
         "layout": {
          "annotationdefaults": {
           "arrowcolor": "#2a3f5f",
           "arrowhead": 0,
           "arrowwidth": 1
          },
          "autotypenumbers": "strict",
          "coloraxis": {
           "colorbar": {
            "outlinewidth": 0,
            "ticks": ""
           }
          },
          "colorscale": {
           "diverging": [
            [
             0,
             "#8e0152"
            ],
            [
             0.1,
             "#c51b7d"
            ],
            [
             0.2,
             "#de77ae"
            ],
            [
             0.3,
             "#f1b6da"
            ],
            [
             0.4,
             "#fde0ef"
            ],
            [
             0.5,
             "#f7f7f7"
            ],
            [
             0.6,
             "#e6f5d0"
            ],
            [
             0.7,
             "#b8e186"
            ],
            [
             0.8,
             "#7fbc41"
            ],
            [
             0.9,
             "#4d9221"
            ],
            [
             1,
             "#276419"
            ]
           ],
           "sequential": [
            [
             0.0,
             "#0d0887"
            ],
            [
             0.1111111111111111,
             "#46039f"
            ],
            [
             0.2222222222222222,
             "#7201a8"
            ],
            [
             0.3333333333333333,
             "#9c179e"
            ],
            [
             0.4444444444444444,
             "#bd3786"
            ],
            [
             0.5555555555555556,
             "#d8576b"
            ],
            [
             0.6666666666666666,
             "#ed7953"
            ],
            [
             0.7777777777777778,
             "#fb9f3a"
            ],
            [
             0.8888888888888888,
             "#fdca26"
            ],
            [
             1.0,
             "#f0f921"
            ]
           ],
           "sequentialminus": [
            [
             0.0,
             "#0d0887"
            ],
            [
             0.1111111111111111,
             "#46039f"
            ],
            [
             0.2222222222222222,
             "#7201a8"
            ],
            [
             0.3333333333333333,
             "#9c179e"
            ],
            [
             0.4444444444444444,
             "#bd3786"
            ],
            [
             0.5555555555555556,
             "#d8576b"
            ],
            [
             0.6666666666666666,
             "#ed7953"
            ],
            [
             0.7777777777777778,
             "#fb9f3a"
            ],
            [
             0.8888888888888888,
             "#fdca26"
            ],
            [
             1.0,
             "#f0f921"
            ]
           ]
          },
          "colorway": [
           "#636efa",
           "#EF553B",
           "#00cc96",
           "#ab63fa",
           "#FFA15A",
           "#19d3f3",
           "#FF6692",
           "#B6E880",
           "#FF97FF",
           "#FECB52"
          ],
          "font": {
           "color": "#2a3f5f"
          },
          "geo": {
           "bgcolor": "white",
           "lakecolor": "white",
           "landcolor": "#E5ECF6",
           "showlakes": true,
           "showland": true,
           "subunitcolor": "white"
          },
          "hoverlabel": {
           "align": "left"
          },
          "hovermode": "closest",
          "mapbox": {
           "style": "light"
          },
          "paper_bgcolor": "white",
          "plot_bgcolor": "#E5ECF6",
          "polar": {
           "angularaxis": {
            "gridcolor": "white",
            "linecolor": "white",
            "ticks": ""
           },
           "bgcolor": "#E5ECF6",
           "radialaxis": {
            "gridcolor": "white",
            "linecolor": "white",
            "ticks": ""
           }
          },
          "scene": {
           "xaxis": {
            "backgroundcolor": "#E5ECF6",
            "gridcolor": "white",
            "gridwidth": 2,
            "linecolor": "white",
            "showbackground": true,
            "ticks": "",
            "zerolinecolor": "white"
           },
           "yaxis": {
            "backgroundcolor": "#E5ECF6",
            "gridcolor": "white",
            "gridwidth": 2,
            "linecolor": "white",
            "showbackground": true,
            "ticks": "",
            "zerolinecolor": "white"
           },
           "zaxis": {
            "backgroundcolor": "#E5ECF6",
            "gridcolor": "white",
            "gridwidth": 2,
            "linecolor": "white",
            "showbackground": true,
            "ticks": "",
            "zerolinecolor": "white"
           }
          },
          "shapedefaults": {
           "line": {
            "color": "#2a3f5f"
           }
          },
          "ternary": {
           "aaxis": {
            "gridcolor": "white",
            "linecolor": "white",
            "ticks": ""
           },
           "baxis": {
            "gridcolor": "white",
            "linecolor": "white",
            "ticks": ""
           },
           "bgcolor": "#E5ECF6",
           "caxis": {
            "gridcolor": "white",
            "linecolor": "white",
            "ticks": ""
           }
          },
          "title": {
           "x": 0.05
          },
          "xaxis": {
           "automargin": true,
           "gridcolor": "white",
           "linecolor": "white",
           "ticks": "",
           "title": {
            "standoff": 15
           },
           "zerolinecolor": "white",
           "zerolinewidth": 2
          },
          "yaxis": {
           "automargin": true,
           "gridcolor": "white",
           "linecolor": "white",
           "ticks": "",
           "title": {
            "standoff": 15
           },
           "zerolinecolor": "white",
           "zerolinewidth": 2
          }
         }
        },
        "title": {
         "text": "Calibrated SVI Volatility Surface vs. Market Data"
        },
        "width": 900
       }
      }
     },
     "metadata": {},
     "output_type": "display_data"
    }
   ],
   "source": [
    "# Create a grid of moneyness and expiry points for the surface plot\n",
    "moneyness_grid = np.linspace(-0.5, 0.5, 50)\n",
    "expiry_grid = np.linspace(1.0, 2.0, 25)\n",
    "X, Y = np.meshgrid(moneyness_grid, expiry_grid)\n",
    "Z = np.array([surface.volatility(m, e) for m, e in zip(X.ravel(), Y.ravel())]).reshape(X.shape)\n",
    "\n",
    "# Create the surface plot\n",
    "surface_plot = go.Surface(x=X, y=Y, z=Z, colorscale='Viridis', opacity=0.8, name='Calibrated SVI Surface')\n",
    "\n",
    "# Prepare market data for scatter plot\n",
    "market_data = []\n",
    "for opt in all_options:\n",
    "    try:\n",
    "        vol = implied_volatility_py(opt, opt.price)\n",
    "        market_data.append({'moneyness': opt.moneyness(), 'expiry': opt.expiry, 'market_vol': vol})\n",
    "    except CalibrationError:\n",
    "        pass # Ignore options where implied vol fails\n",
    "df = pd.DataFrame(market_data)\n",
    "\n",
    "scatter_plot = go.Scatter3d(\n",
    "    x=df['moneyness'], y=df['expiry'], z=df['market_vol'],\n",
    "    mode='markers',\n",
    "    marker=dict(size=4, color='red', symbol='circle'),\n",
    "    name='Market Data'\n",
    ")\n",
    "\n",
    "fig = go.Figure(data=[surface_plot, scatter_plot])\n",
    "fig.update_layout(\n",
    "    title='Calibrated SVI Volatility Surface vs. Market Data',\n",
    "    scene=dict(\n",
    "        xaxis_title='Log-Forward Moneyness (k)',\n",
    "        yaxis_title='Expiry (T)',\n",
    "        zaxis_title='Implied Volatility'\n",
    "    ),\n",
    "    width=900, height=700\n",
    ")\n",
    "fig.show()"
   ]
  }
 ],
 "metadata": {
  "kernelspec": {
   "display_name": "Python 3",
   "language": "python",
   "name": "python3"
  },
  "language_info": {
   "codemirror_mode": {
    "name": "ipython",
    "version": 3
   },
   "file_extension": ".py",
   "mimetype": "text/x-python",
   "name": "python",
   "nbconvert_exporter": "python",
   "pygments_lexer": "ipython3",
   "version": "3.12.11"
  }
 },
 "nbformat": 4,
 "nbformat_minor": 2
}
