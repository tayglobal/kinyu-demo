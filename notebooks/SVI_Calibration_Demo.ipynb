{
 "cells": [
  {
   "cell_type": "markdown",
   "metadata": {},
   "source": [
    "# SVI Volatility Surface Calibration Demo\n",
    "\n",
    "This notebook demonstrates how to use the `implied` Rust library with Python bindings to calibrate an SVI (Stochastic Volatility Inspired) volatility surface from a set of option prices."
   ]
  },
  {
   "cell_type": "markdown",
   "metadata": {},
   "source": [
    "## 1. Installation\n",
    "\n",
    "This notebook assumes the `implied` library has been installed from the wheel. We also need to install `pandas`, `numpy`, and `plotly` for data manipulation and visualization."
   ]
  },
  {
   "cell_type": "code",
   "execution_count": null,
   "metadata": {
    "execution": {
     "iopub.execute_input": "2025-09-28T04:52:13.684712Z",
     "iopub.status.busy": "2025-09-28T04:52:13.684400Z",
     "iopub.status.idle": "2025-09-28T04:52:14.876448Z",
     "shell.execute_reply": "2025-09-28T04:52:14.874916Z"
    }
   },
   "outputs": [
    {
     "name": "stdout",
     "output_type": "stream",
     "text": [
      "Requirement already satisfied: pandas in /Users/tonyyum/Documents/code/kinyu-demo/.venv/lib/python3.12/site-packages (2.3.2)\n",
      "Requirement already satisfied: numpy in /Users/tonyyum/Documents/code/kinyu-demo/.venv/lib/python3.12/site-packages (2.3.3)\n",
      "Collecting plotly\n",
      "  Downloading plotly-6.3.0-py3-none-any.whl.metadata (8.5 kB)\n",
      "Collecting scipy\n",
      "  Downloading scipy-1.16.2-cp312-cp312-macosx_14_0_arm64.whl.metadata (62 kB)\n",
      "Requirement already satisfied: python-dateutil>=2.8.2 in /Users/tonyyum/Documents/code/kinyu-demo/.venv/lib/python3.12/site-packages (from pandas) (2.9.0.post0)\n",
      "Requirement already satisfied: pytz>=2020.1 in /Users/tonyyum/Documents/code/kinyu-demo/.venv/lib/python3.12/site-packages (from pandas) (2025.2)\n",
      "Requirement already satisfied: tzdata>=2022.7 in /Users/tonyyum/Documents/code/kinyu-demo/.venv/lib/python3.12/site-packages (from pandas) (2025.2)\n",
      "Collecting narwhals>=1.15.1 (from plotly)\n",
      "  Downloading narwhals-2.5.0-py3-none-any.whl.metadata (11 kB)\n",
      "Requirement already satisfied: packaging in /Users/tonyyum/Documents/code/kinyu-demo/.venv/lib/python3.12/site-packages (from plotly) (25.0)\n",
      "Requirement already satisfied: six>=1.5 in /Users/tonyyum/Documents/code/kinyu-demo/.venv/lib/python3.12/site-packages (from python-dateutil>=2.8.2->pandas) (1.17.0)\n",
      "Downloading plotly-6.3.0-py3-none-any.whl (9.8 MB)\n",
      "\u001b[2K   \u001b[90m━━━━━━━━━━━━━━━━━━━━━━━━━━━━━━━━━━━━━━━━\u001b[0m \u001b[32m9.8/9.8 MB\u001b[0m \u001b[31m5.8 MB/s\u001b[0m  \u001b[33m0:00:01\u001b[0mm0:00:01\u001b[0m00:01\u001b[0m\n",
      "\u001b[?25hDownloading scipy-1.16.2-cp312-cp312-macosx_14_0_arm64.whl (20.9 MB)\n",
      "\u001b[2K   \u001b[90m━━━━━━━━━━━━━━━━━━━━━━━━━━━━━━━━━━━━━━━━\u001b[0m \u001b[32m20.9/20.9 MB\u001b[0m \u001b[31m6.8 MB/s\u001b[0m  \u001b[33m0:00:03\u001b[0mm0:00:01\u001b[0m00:01\u001b[0m\n",
      "\u001b[?25hDownloading narwhals-2.5.0-py3-none-any.whl (407 kB)\n",
      "Installing collected packages: scipy, narwhals, plotly\n",
      "\u001b[2K   \u001b[90m━━━━━━━━━━━━━━━━━━━━━━━━━━━━━━━━━━━━━━━━\u001b[0m \u001b[32m3/3\u001b[0m [plotly]2m2/3\u001b[0m [plotly]s]\n",
      "\u001b[1A\u001b[2KSuccessfully installed narwhals-2.5.0 plotly-6.3.0 scipy-1.16.2\n"
     ]
    }
   ],
   "source": [
    "%pip install pandas numpy plotly scipy"
   ]
  },
  {
   "cell_type": "markdown",
   "metadata": {},
   "source": [
    "## 2. Imports\n",
    "\n",
    "Now, let's import the necessary libraries."
   ]
  },
  {
   "cell_type": "code",
   "execution_count": 4,
   "metadata": {
    "execution": {
     "iopub.execute_input": "2025-09-28T04:52:14.880908Z",
     "iopub.status.busy": "2025-09-28T04:52:14.880538Z",
     "iopub.status.idle": "2025-09-28T04:52:15.309378Z",
     "shell.execute_reply": "2025-09-28T04:52:15.308041Z"
    }
   },
   "outputs": [],
   "source": [
    "import numpy as np\n",
    "import pandas as pd\n",
    "import plotly.graph_objects as go\n",
    "import sys\n",
    "\n",
    "from implied import OptionData, OptionType, SVIVolatilitySurface, SVIParameters, black_scholes_price_py, implied_volatility_py, CalibrationError"
   ]
  },
  {
   "cell_type": "markdown",
   "metadata": {},
   "source": [
    "## 3. Data Generation\n",
    "\n",
    "To test the calibration, we will generate a realistic set of option prices. We'll create a synthetic market where the \"true\" volatility smile is governed by a known set of SVI parameters for two different expiries (1 year and 2 years)."
   ]
  },
  {
   "cell_type": "code",
   "execution_count": 5,
   "metadata": {
    "execution": {
     "iopub.execute_input": "2025-09-28T04:52:15.313444Z",
     "iopub.status.busy": "2025-09-28T04:52:15.312964Z",
     "iopub.status.idle": "2025-09-28T04:52:15.324548Z",
     "shell.execute_reply": "2025-09-28T04:52:15.323539Z"
    }
   },
   "outputs": [
    {
     "name": "stdout",
     "output_type": "stream",
     "text": [
      "Generated 100 options.\n"
     ]
    }
   ],
   "source": [
    "def generate_realistic_options(num_options, expiry, true_svi):\n",
    "    spot = 100.0\n",
    "    risk_free_rate = 0.05\n",
    "    options = []\n",
    "    for _ in range(num_options):\n",
    "        strike = np.random.uniform(80, 120)\n",
    "        \n",
    "        # Create a temporary OptionData to calculate moneyness\n",
    "        temp_opt = OptionData(strike=strike, spot=spot, expiry=expiry, price=0, risk_free_rate=risk_free_rate, option_type=OptionType.Call)\n",
    "        moneyness = temp_opt.moneyness()\n",
    "        \n",
    "        total_variance = true_svi.a + true_svi.b * (true_svi.rho * (moneyness - true_svi.m) + np.sqrt((moneyness - true_svi.m)**2 + true_svi.sigma**2))\n",
    "        if total_variance < 0:\n",
    "            continue\n",
    "        \n",
    "        vol = np.sqrt(total_variance / expiry)\n",
    "        price = black_scholes_price_py(spot, strike, risk_free_rate, expiry, vol, OptionType.Call)\n",
    "        \n",
    "        options.append(OptionData(\n",
    "            strike=strike, \n",
    "            spot=spot, \n",
    "            expiry=expiry, \n",
    "            price=price, \n",
    "            risk_free_rate=risk_free_rate, \n",
    "            option_type=OptionType.Call\n",
    "        ))\n",
    "    return options\n",
    "\n",
    "# Define the \"true\" SVI parameters for our synthetic market\n",
    "true_svi_1y = SVIParameters(a=0.04, b=0.4, rho=-0.7, m=0.1, sigma=0.2)\n",
    "true_svi_2y = SVIParameters(a=0.035, b=0.35, rho=-0.65, m=0.12, sigma=0.22)\n",
    "\n",
    "# Generate options for two expiries\n",
    "options_1y = generate_realistic_options(50, 1.0, true_svi_1y)\n",
    "options_2y = generate_realistic_options(50, 2.0, true_svi_2y)\n",
    "all_options = options_1y + options_2y\n",
    "\n",
    "print(f\"Generated {len(all_options)} options.\")"
   ]
  },
  {
   "cell_type": "markdown",
   "metadata": {},
   "source": [
    "## 4. Calibrate the SVI Surface\n",
    "\n",
    "Now, we pass the list of `OptionData` objects to the `SVIVolatilitySurface.calibrate` method. The Rust backend will group the options by expiry, calibrate a separate SVI slice for each, and return a surface object."
   ]
  },
  {
   "cell_type": "code",
   "execution_count": 6,
   "metadata": {
    "execution": {
     "iopub.execute_input": "2025-09-28T04:52:15.327912Z",
     "iopub.status.busy": "2025-09-28T04:52:15.327576Z",
     "iopub.status.idle": "2025-09-28T04:52:15.594787Z",
     "shell.execute_reply": "2025-09-28T04:52:15.593519Z"
    }
   },
   "outputs": [
    {
     "name": "stdout",
     "output_type": "stream",
     "text": [
      "SVI surface calibrated successfully!\n"
     ]
    }
   ],
   "source": [
    "try:\n",
    "    surface = SVIVolatilitySurface.calibrate(all_options)\n",
    "    print(\"SVI surface calibrated successfully!\")\n",
    "except CalibrationError as e:\n",
    "    print(f\"Calibration failed: {e}\")"
   ]
  },
  {
   "cell_type": "markdown",
   "metadata": {},
   "source": [
    "## 5. Query the Volatility Surface\n",
    "\n",
    "We can now use the `volatility` method on the calibrated surface to get the implied volatility for any moneyness and expiry. The library will find the closest calibrated expiry slice to the one requested."
   ]
  },
  {
   "cell_type": "code",
   "execution_count": 7,
   "metadata": {
    "execution": {
     "iopub.execute_input": "2025-09-28T04:52:15.598533Z",
     "iopub.status.busy": "2025-09-28T04:52:15.598185Z",
     "iopub.status.idle": "2025-09-28T04:52:15.604569Z",
     "shell.execute_reply": "2025-09-28T04:52:15.603570Z"
    }
   },
   "outputs": [
    {
     "name": "stdout",
     "output_type": "stream",
     "text": [
      "Volatility at moneyness=0.05, expiry=1.0y: 0.3704\n",
      "Volatility at moneyness=0.05, expiry=1.1y: 0.3704\n",
      "Volatility at moneyness=0.05, expiry=1.8y: 0.2566\n"
     ]
    }
   ],
   "source": [
    "# Exact expiry match\n",
    "vol_1y = surface.volatility(moneyness=0.05, expiry=1.0)\n",
    "print(f\"Volatility at moneyness=0.05, expiry=1.0y: {vol_1y:.4f}\")\n",
    "\n",
    "# Closest expiry match\n",
    "vol_1_1y = surface.volatility(moneyness=0.05, expiry=1.1) # Should use the 1.0y slice\n",
    "print(f\"Volatility at moneyness=0.05, expiry=1.1y: {vol_1_1y:.4f}\")\n",
    "\n",
    "vol_1_8y = surface.volatility(moneyness=0.05, expiry=1.8) # Should use the 2.0y slice\n",
    "print(f\"Volatility at moneyness=0.05, expiry=1.8y: {vol_1_8y:.4f}\")"
   ]
  },
  {
   "cell_type": "markdown",
   "metadata": {},
   "source": [
    "## 6. Visualize the Calibrated Surface\n",
    "\n",
    "Finally, let's visualize the result. We will create a 3D plot showing the calibrated SVI surface and overlay the original market data points (our synthetic options) to see how well the model fits."
   ]
  },
  {
   "cell_type": "code",
   "execution_count": 8,
   "metadata": {
    "execution": {
     "iopub.execute_input": "2025-09-28T04:52:15.608178Z",
     "iopub.status.busy": "2025-09-28T04:52:15.607829Z",
     "iopub.status.idle": "2025-09-28T04:52:18.065699Z",
     "shell.execute_reply": "2025-09-28T04:52:18.064577Z"
    }
   },
   "outputs": [
    {
     "data": {
      "application/vnd.plotly.v1+json": {
       "config": {
        "plotlyServerURL": "https://plot.ly"
       },
       "data": [
        {
         "colorscale": [
          [
           0,
           "#440154"
          ],
          [
           0.1111111111111111,
           "#482878"
          ],
          [
           0.2222222222222222,
           "#3e4989"
          ],
          [
           0.3333333333333333,
           "#31688e"
          ],
          [
           0.4444444444444444,
           "#26828e"
          ],
          [
           0.5555555555555556,
           "#1f9e89"
          ],
          [
           0.6666666666666666,
           "#35b779"
          ],
          [
           0.7777777777777778,
           "#6ece58"
          ],
          [
           0.8888888888888888,
           "#b5de2b"
          ],
          [
           1,
           "#fde725"
          ]
         ],
         "name": "Calibrated SVI Surface",
         "opacity": 0.8,
         "type": "surface",
         "x": {
          "bdata": "AAAAAAAA4L+sD431obHev1kfGutDY92/BS+n4OUU3L+yPjTWh8bav15OwcspeNm/Cl5Owcsp2L+3bdu2bdvWv2R9aKwPjdW/EI31obE+1L+8nIKXU/DSv2msD431odG/FbycgpdT0L+El1PwcgrOv9y2bdu2bcu/NtaHxvrQyL+O9aGxPjTGv+YUvJyCl8O/QDTWh8b6wL8wp+DlFLy8v+TlFLycgre/lCRJkiRJsr+QxvrQWB+qv+CHxvrQWJ+/QAUvp+DlhL9ABS+n4OWEP8CHxvrQWJ8/gMb60Fgfqj+QJEmSJEmyP+DlFLycgrc/KKfg5RS8vD88NNaHxvrAP+QUvJyCl8M/jPWhsT40xj801ofG+tDIP9i2bdu2bcs/gJdT8HIKzj8UvJyCl1PQP2isD431odE/upyCl1Pw0j8OjfWhsT7UP2J9aKwPjdU/tm3btm3b1j8KXk7ByynYP1xOwcspeNk/sD401ofG2j8EL6fg5RTcP1gfGutDY90/rA+N9aGx3j8AAAAAAADgPwAAAAAAAOC/rA+N9aGx3r9ZHxrrQ2PdvwUvp+DlFNy/sj401ofG2r9eTsHLKXjZvwpeTsHLKdi/t23btm3b1r9kfWisD43VvxCN9aGxPtS/vJyCl1Pw0r9prA+N9aHRvxW8nIKXU9C/hJdT8HIKzr/ctm3btm3LvzbWh8b60Mi/jvWhsT40xr/mFLycgpfDv0A01ofG+sC/MKfg5RS8vL/k5RS8nIK3v5QkSZIkSbK/kMb60Fgfqr/gh8b60Fifv0AFL6fg5YS/QAUvp+DlhD/Ah8b60FifP4DG+tBYH6o/kCRJkiRJsj/g5RS8nIK3Pyin4OUUvLw/PDTWh8b6wD/kFLycgpfDP4z1obE+NMY/NNaHxvrQyD/Ytm3btm3LP4CXU/ByCs4/FLycgpdT0D9orA+N9aHRP7qcgpdT8NI/Do31obE+1D9ifWisD43VP7Zt27Zt29Y/Cl5Owcsp2D9cTsHLKXjZP7A+NNaHxto/BC+n4OUU3D9YHxrrQ2PdP6wPjfWhsd4/AAAAAAAA4D8AAAAAAADgv6wPjfWhsd6/WR8a60Nj3b8FL6fg5RTcv7I+NNaHxtq/Xk7Byyl42b8KXk7ByynYv7dt27Zt29a/ZH1orA+N1b8QjfWhsT7Uv7ycgpdT8NK/aawPjfWh0b8VvJyCl1PQv4SXU/ByCs6/3LZt27Zty7821ofG+tDIv471obE+NMa/5hS8nIKXw79ANNaHxvrAvzCn4OUUvLy/5OUUvJyCt7+UJEmSJEmyv5DG+tBYH6q/4IfG+tBYn79ABS+n4OWEv0AFL6fg5YQ/wIfG+tBYnz+AxvrQWB+qP5AkSZIkSbI/4OUUvJyCtz8op+DlFLy8Pzw01ofG+sA/5BS8nIKXwz+M9aGxPjTGPzTWh8b60Mg/2LZt27Ztyz+Al1PwcgrOPxS8nIKXU9A/aKwPjfWh0T+6nIKXU/DSPw6N9aGxPtQ/Yn1orA+N1T+2bdu2bdvWPwpeTsHLKdg/XE7Byyl42T+wPjTWh8baPwQvp+DlFNw/WB8a60Nj3T+sD431obHePwAAAAAAAOA/AAAAAAAA4L+sD431obHev1kfGutDY92/BS+n4OUU3L+yPjTWh8bav15OwcspeNm/Cl5Owcsp2L+3bdu2bdvWv2R9aKwPjdW/EI31obE+1L+8nIKXU/DSv2msD431odG/FbycgpdT0L+El1PwcgrOv9y2bdu2bcu/NtaHxvrQyL+O9aGxPjTGv+YUvJyCl8O/QDTWh8b6wL8wp+DlFLy8v+TlFLycgre/lCRJkiRJsr+QxvrQWB+qv+CHxvrQWJ+/QAUvp+DlhL9ABS+n4OWEP8CHxvrQWJ8/gMb60Fgfqj+QJEmSJEmyP+DlFLycgrc/KKfg5RS8vD88NNaHxvrAP+QUvJyCl8M/jPWhsT40xj801ofG+tDIP9i2bdu2bcs/gJdT8HIKzj8UvJyCl1PQP2isD431odE/upyCl1Pw0j8OjfWhsT7UP2J9aKwPjdU/tm3btm3b1j8KXk7ByynYP1xOwcspeNk/sD401ofG2j8EL6fg5RTcP1gfGutDY90/rA+N9aGx3j8AAAAAAADgPwAAAAAAAOC/rA+N9aGx3r9ZHxrrQ2PdvwUvp+DlFNy/sj401ofG2r9eTsHLKXjZvwpeTsHLKdi/t23btm3b1r9kfWisD43VvxCN9aGxPtS/vJyCl1Pw0r9prA+N9aHRvxW8nIKXU9C/hJdT8HIKzr/ctm3btm3LvzbWh8b60Mi/jvWhsT40xr/mFLycgpfDv0A01ofG+sC/MKfg5RS8vL/k5RS8nIK3v5QkSZIkSbK/kMb60Fgfqr/gh8b60Fifv0AFL6fg5YS/QAUvp+DlhD/Ah8b60FifP4DG+tBYH6o/kCRJkiRJsj/g5RS8nIK3Pyin4OUUvLw/PDTWh8b6wD/kFLycgpfDP4z1obE+NMY/NNaHxvrQyD/Ytm3btm3LP4CXU/ByCs4/FLycgpdT0D9orA+N9aHRP7qcgpdT8NI/Do31obE+1D9ifWisD43VP7Zt27Zt29Y/Cl5Owcsp2D9cTsHLKXjZP7A+NNaHxto/BC+n4OUU3D9YHxrrQ2PdP6wPjfWhsd4/AAAAAAAA4D8AAAAAAADgv6wPjfWhsd6/WR8a60Nj3b8FL6fg5RTcv7I+NNaHxtq/Xk7Byyl42b8KXk7ByynYv7dt27Zt29a/ZH1orA+N1b8QjfWhsT7Uv7ycgpdT8NK/aawPjfWh0b8VvJyCl1PQv4SXU/ByCs6/3LZt27Zty7821ofG+tDIv471obE+NMa/5hS8nIKXw79ANNaHxvrAvzCn4OUUvLy/5OUUvJyCt7+UJEmSJEmyv5DG+tBYH6q/4IfG+tBYn79ABS+n4OWEv0AFL6fg5YQ/wIfG+tBYnz+AxvrQWB+qP5AkSZIkSbI/4OUUvJyCtz8op+DlFLy8Pzw01ofG+sA/5BS8nIKXwz+M9aGxPjTGPzTWh8b60Mg/2LZt27Ztyz+Al1PwcgrOPxS8nIKXU9A/aKwPjfWh0T+6nIKXU/DSPw6N9aGxPtQ/Yn1orA+N1T+2bdu2bdvWPwpeTsHLKdg/XE7Byyl42T+wPjTWh8baPwQvp+DlFNw/WB8a60Nj3T+sD431obHePwAAAAAAAOA/AAAAAAAA4L+sD431obHev1kfGutDY92/BS+n4OUU3L+yPjTWh8bav15OwcspeNm/Cl5Owcsp2L+3bdu2bdvWv2R9aKwPjdW/EI31obE+1L+8nIKXU/DSv2msD431odG/FbycgpdT0L+El1PwcgrOv9y2bdu2bcu/NtaHxvrQyL+O9aGxPjTGv+YUvJyCl8O/QDTWh8b6wL8wp+DlFLy8v+TlFLycgre/lCRJkiRJsr+QxvrQWB+qv+CHxvrQWJ+/QAUvp+DlhL9ABS+n4OWEP8CHxvrQWJ8/gMb60Fgfqj+QJEmSJEmyP+DlFLycgrc/KKfg5RS8vD88NNaHxvrAP+QUvJyCl8M/jPWhsT40xj801ofG+tDIP9i2bdu2bcs/gJdT8HIKzj8UvJyCl1PQP2isD431odE/upyCl1Pw0j8OjfWhsT7UP2J9aKwPjdU/tm3btm3b1j8KXk7ByynYP1xOwcspeNk/sD401ofG2j8EL6fg5RTcP1gfGutDY90/rA+N9aGx3j8AAAAAAADgPwAAAAAAAOC/rA+N9aGx3r9ZHxrrQ2PdvwUvp+DlFNy/sj401ofG2r9eTsHLKXjZvwpeTsHLKdi/t23btm3b1r9kfWisD43VvxCN9aGxPtS/vJyCl1Pw0r9prA+N9aHRvxW8nIKXU9C/hJdT8HIKzr/ctm3btm3LvzbWh8b60Mi/jvWhsT40xr/mFLycgpfDv0A01ofG+sC/MKfg5RS8vL/k5RS8nIK3v5QkSZIkSbK/kMb60Fgfqr/gh8b60Fifv0AFL6fg5YS/QAUvp+DlhD/Ah8b60FifP4DG+tBYH6o/kCRJkiRJsj/g5RS8nIK3Pyin4OUUvLw/PDTWh8b6wD/kFLycgpfDP4z1obE+NMY/NNaHxvrQyD/Ytm3btm3LP4CXU/ByCs4/FLycgpdT0D9orA+N9aHRP7qcgpdT8NI/Do31obE+1D9ifWisD43VP7Zt27Zt29Y/Cl5Owcsp2D9cTsHLKXjZP7A+NNaHxto/BC+n4OUU3D9YHxrrQ2PdP6wPjfWhsd4/AAAAAAAA4D8AAAAAAADgv6wPjfWhsd6/WR8a60Nj3b8FL6fg5RTcv7I+NNaHxtq/Xk7Byyl42b8KXk7ByynYv7dt27Zt29a/ZH1orA+N1b8QjfWhsT7Uv7ycgpdT8NK/aawPjfWh0b8VvJyCl1PQv4SXU/ByCs6/3LZt27Zty7821ofG+tDIv471obE+NMa/5hS8nIKXw79ANNaHxvrAvzCn4OUUvLy/5OUUvJyCt7+UJEmSJEmyv5DG+tBYH6q/4IfG+tBYn79ABS+n4OWEv0AFL6fg5YQ/wIfG+tBYnz+AxvrQWB+qP5AkSZIkSbI/4OUUvJyCtz8op+DlFLy8Pzw01ofG+sA/5BS8nIKXwz+M9aGxPjTGPzTWh8b60Mg/2LZt27Ztyz+Al1PwcgrOPxS8nIKXU9A/aKwPjfWh0T+6nIKXU/DSPw6N9aGxPtQ/Yn1orA+N1T+2bdu2bdvWPwpeTsHLKdg/XE7Byyl42T+wPjTWh8baPwQvp+DlFNw/WB8a60Nj3T+sD431obHePwAAAAAAAOA/AAAAAAAA4L+sD431obHev1kfGutDY92/BS+n4OUU3L+yPjTWh8bav15OwcspeNm/Cl5Owcsp2L+3bdu2bdvWv2R9aKwPjdW/EI31obE+1L+8nIKXU/DSv2msD431odG/FbycgpdT0L+El1PwcgrOv9y2bdu2bcu/NtaHxvrQyL+O9aGxPjTGv+YUvJyCl8O/QDTWh8b6wL8wp+DlFLy8v+TlFLycgre/lCRJkiRJsr+QxvrQWB+qv+CHxvrQWJ+/QAUvp+DlhL9ABS+n4OWEP8CHxvrQWJ8/gMb60Fgfqj+QJEmSJEmyP+DlFLycgrc/KKfg5RS8vD88NNaHxvrAP+QUvJyCl8M/jPWhsT40xj801ofG+tDIP9i2bdu2bcs/gJdT8HIKzj8UvJyCl1PQP2isD431odE/upyCl1Pw0j8OjfWhsT7UP2J9aKwPjdU/tm3btm3b1j8KXk7ByynYP1xOwcspeNk/sD401ofG2j8EL6fg5RTcP1gfGutDY90/rA+N9aGx3j8AAAAAAADgPwAAAAAAAOC/rA+N9aGx3r9ZHxrrQ2PdvwUvp+DlFNy/sj401ofG2r9eTsHLKXjZvwpeTsHLKdi/t23btm3b1r9kfWisD43VvxCN9aGxPtS/vJyCl1Pw0r9prA+N9aHRvxW8nIKXU9C/hJdT8HIKzr/ctm3btm3LvzbWh8b60Mi/jvWhsT40xr/mFLycgpfDv0A01ofG+sC/MKfg5RS8vL/k5RS8nIK3v5QkSZIkSbK/kMb60Fgfqr/gh8b60Fifv0AFL6fg5YS/QAUvp+DlhD/Ah8b60FifP4DG+tBYH6o/kCRJkiRJsj/g5RS8nIK3Pyin4OUUvLw/PDTWh8b6wD/kFLycgpfDP4z1obE+NMY/NNaHxvrQyD/Ytm3btm3LP4CXU/ByCs4/FLycgpdT0D9orA+N9aHRP7qcgpdT8NI/Do31obE+1D9ifWisD43VP7Zt27Zt29Y/Cl5Owcsp2D9cTsHLKXjZP7A+NNaHxto/BC+n4OUU3D9YHxrrQ2PdP6wPjfWhsd4/AAAAAAAA4D8AAAAAAADgv6wPjfWhsd6/WR8a60Nj3b8FL6fg5RTcv7I+NNaHxtq/Xk7Byyl42b8KXk7ByynYv7dt27Zt29a/ZH1orA+N1b8QjfWhsT7Uv7ycgpdT8NK/aawPjfWh0b8VvJyCl1PQv4SXU/ByCs6/3LZt27Zty7821ofG+tDIv471obE+NMa/5hS8nIKXw79ANNaHxvrAvzCn4OUUvLy/5OUUvJyCt7+UJEmSJEmyv5DG+tBYH6q/4IfG+tBYn79ABS+n4OWEv0AFL6fg5YQ/wIfG+tBYnz+AxvrQWB+qP5AkSZIkSbI/4OUUvJyCtz8op+DlFLy8Pzw01ofG+sA/5BS8nIKXwz+M9aGxPjTGPzTWh8b60Mg/2LZt27Ztyz+Al1PwcgrOPxS8nIKXU9A/aKwPjfWh0T+6nIKXU/DSPw6N9aGxPtQ/Yn1orA+N1T+2bdu2bdvWPwpeTsHLKdg/XE7Byyl42T+wPjTWh8baPwQvp+DlFNw/WB8a60Nj3T+sD431obHePwAAAAAAAOA/AAAAAAAA4L+sD431obHev1kfGutDY92/BS+n4OUU3L+yPjTWh8bav15OwcspeNm/Cl5Owcsp2L+3bdu2bdvWv2R9aKwPjdW/EI31obE+1L+8nIKXU/DSv2msD431odG/FbycgpdT0L+El1PwcgrOv9y2bdu2bcu/NtaHxvrQyL+O9aGxPjTGv+YUvJyCl8O/QDTWh8b6wL8wp+DlFLy8v+TlFLycgre/lCRJkiRJsr+QxvrQWB+qv+CHxvrQWJ+/QAUvp+DlhL9ABS+n4OWEP8CHxvrQWJ8/gMb60Fgfqj+QJEmSJEmyP+DlFLycgrc/KKfg5RS8vD88NNaHxvrAP+QUvJyCl8M/jPWhsT40xj801ofG+tDIP9i2bdu2bcs/gJdT8HIKzj8UvJyCl1PQP2isD431odE/upyCl1Pw0j8OjfWhsT7UP2J9aKwPjdU/tm3btm3b1j8KXk7ByynYP1xOwcspeNk/sD401ofG2j8EL6fg5RTcP1gfGutDY90/rA+N9aGx3j8AAAAAAADgPwAAAAAAAOC/rA+N9aGx3r9ZHxrrQ2PdvwUvp+DlFNy/sj401ofG2r9eTsHLKXjZvwpeTsHLKdi/t23btm3b1r9kfWisD43VvxCN9aGxPtS/vJyCl1Pw0r9prA+N9aHRvxW8nIKXU9C/hJdT8HIKzr/ctm3btm3LvzbWh8b60Mi/jvWhsT40xr/mFLycgpfDv0A01ofG+sC/MKfg5RS8vL/k5RS8nIK3v5QkSZIkSbK/kMb60Fgfqr/gh8b60Fifv0AFL6fg5YS/QAUvp+DlhD/Ah8b60FifP4DG+tBYH6o/kCRJkiRJsj/g5RS8nIK3Pyin4OUUvLw/PDTWh8b6wD/kFLycgpfDP4z1obE+NMY/NNaHxvrQyD/Ytm3btm3LP4CXU/ByCs4/FLycgpdT0D9orA+N9aHRP7qcgpdT8NI/Do31obE+1D9ifWisD43VP7Zt27Zt29Y/Cl5Owcsp2D9cTsHLKXjZP7A+NNaHxto/BC+n4OUU3D9YHxrrQ2PdP6wPjfWhsd4/AAAAAAAA4D8AAAAAAADgv6wPjfWhsd6/WR8a60Nj3b8FL6fg5RTcv7I+NNaHxtq/Xk7Byyl42b8KXk7ByynYv7dt27Zt29a/ZH1orA+N1b8QjfWhsT7Uv7ycgpdT8NK/aawPjfWh0b8VvJyCl1PQv4SXU/ByCs6/3LZt27Zty7821ofG+tDIv471obE+NMa/5hS8nIKXw79ANNaHxvrAvzCn4OUUvLy/5OUUvJyCt7+UJEmSJEmyv5DG+tBYH6q/4IfG+tBYn79ABS+n4OWEv0AFL6fg5YQ/wIfG+tBYnz+AxvrQWB+qP5AkSZIkSbI/4OUUvJyCtz8op+DlFLy8Pzw01ofG+sA/5BS8nIKXwz+M9aGxPjTGPzTWh8b60Mg/2LZt27Ztyz+Al1PwcgrOPxS8nIKXU9A/aKwPjfWh0T+6nIKXU/DSPw6N9aGxPtQ/Yn1orA+N1T+2bdu2bdvWPwpeTsHLKdg/XE7Byyl42T+wPjTWh8baPwQvp+DlFNw/WB8a60Nj3T+sD431obHePwAAAAAAAOA/AAAAAAAA4L+sD431obHev1kfGutDY92/BS+n4OUU3L+yPjTWh8bav15OwcspeNm/Cl5Owcsp2L+3bdu2bdvWv2R9aKwPjdW/EI31obE+1L+8nIKXU/DSv2msD431odG/FbycgpdT0L+El1PwcgrOv9y2bdu2bcu/NtaHxvrQyL+O9aGxPjTGv+YUvJyCl8O/QDTWh8b6wL8wp+DlFLy8v+TlFLycgre/lCRJkiRJsr+QxvrQWB+qv+CHxvrQWJ+/QAUvp+DlhL9ABS+n4OWEP8CHxvrQWJ8/gMb60Fgfqj+QJEmSJEmyP+DlFLycgrc/KKfg5RS8vD88NNaHxvrAP+QUvJyCl8M/jPWhsT40xj801ofG+tDIP9i2bdu2bcs/gJdT8HIKzj8UvJyCl1PQP2isD431odE/upyCl1Pw0j8OjfWhsT7UP2J9aKwPjdU/tm3btm3b1j8KXk7ByynYP1xOwcspeNk/sD401ofG2j8EL6fg5RTcP1gfGutDY90/rA+N9aGx3j8AAAAAAADgPwAAAAAAAOC/rA+N9aGx3r9ZHxrrQ2PdvwUvp+DlFNy/sj401ofG2r9eTsHLKXjZvwpeTsHLKdi/t23btm3b1r9kfWisD43VvxCN9aGxPtS/vJyCl1Pw0r9prA+N9aHRvxW8nIKXU9C/hJdT8HIKzr/ctm3btm3LvzbWh8b60Mi/jvWhsT40xr/mFLycgpfDv0A01ofG+sC/MKfg5RS8vL/k5RS8nIK3v5QkSZIkSbK/kMb60Fgfqr/gh8b60Fifv0AFL6fg5YS/QAUvp+DlhD/Ah8b60FifP4DG+tBYH6o/kCRJkiRJsj/g5RS8nIK3Pyin4OUUvLw/PDTWh8b6wD/kFLycgpfDP4z1obE+NMY/NNaHxvrQyD/Ytm3btm3LP4CXU/ByCs4/FLycgpdT0D9orA+N9aHRP7qcgpdT8NI/Do31obE+1D9ifWisD43VP7Zt27Zt29Y/Cl5Owcsp2D9cTsHLKXjZP7A+NNaHxto/BC+n4OUU3D9YHxrrQ2PdP6wPjfWhsd4/AAAAAAAA4D8AAAAAAADgv6wPjfWhsd6/WR8a60Nj3b8FL6fg5RTcv7I+NNaHxtq/Xk7Byyl42b8KXk7ByynYv7dt27Zt29a/ZH1orA+N1b8QjfWhsT7Uv7ycgpdT8NK/aawPjfWh0b8VvJyCl1PQv4SXU/ByCs6/3LZt27Zty7821ofG+tDIv471obE+NMa/5hS8nIKXw79ANNaHxvrAvzCn4OUUvLy/5OUUvJyCt7+UJEmSJEmyv5DG+tBYH6q/4IfG+tBYn79ABS+n4OWEv0AFL6fg5YQ/wIfG+tBYnz+AxvrQWB+qP5AkSZIkSbI/4OUUvJyCtz8op+DlFLy8Pzw01ofG+sA/5BS8nIKXwz+M9aGxPjTGPzTWh8b60Mg/2LZt27Ztyz+Al1PwcgrOPxS8nIKXU9A/aKwPjfWh0T+6nIKXU/DSPw6N9aGxPtQ/Yn1orA+N1T+2bdu2bdvWPwpeTsHLKdg/XE7Byyl42T+wPjTWh8baPwQvp+DlFNw/WB8a60Nj3T+sD431obHePwAAAAAAAOA/AAAAAAAA4L+sD431obHev1kfGutDY92/BS+n4OUU3L+yPjTWh8bav15OwcspeNm/Cl5Owcsp2L+3bdu2bdvWv2R9aKwPjdW/EI31obE+1L+8nIKXU/DSv2msD431odG/FbycgpdT0L+El1PwcgrOv9y2bdu2bcu/NtaHxvrQyL+O9aGxPjTGv+YUvJyCl8O/QDTWh8b6wL8wp+DlFLy8v+TlFLycgre/lCRJkiRJsr+QxvrQWB+qv+CHxvrQWJ+/QAUvp+DlhL9ABS+n4OWEP8CHxvrQWJ8/gMb60Fgfqj+QJEmSJEmyP+DlFLycgrc/KKfg5RS8vD88NNaHxvrAP+QUvJyCl8M/jPWhsT40xj801ofG+tDIP9i2bdu2bcs/gJdT8HIKzj8UvJyCl1PQP2isD431odE/upyCl1Pw0j8OjfWhsT7UP2J9aKwPjdU/tm3btm3b1j8KXk7ByynYP1xOwcspeNk/sD401ofG2j8EL6fg5RTcP1gfGutDY90/rA+N9aGx3j8AAAAAAADgPwAAAAAAAOC/rA+N9aGx3r9ZHxrrQ2PdvwUvp+DlFNy/sj401ofG2r9eTsHLKXjZvwpeTsHLKdi/t23btm3b1r9kfWisD43VvxCN9aGxPtS/vJyCl1Pw0r9prA+N9aHRvxW8nIKXU9C/hJdT8HIKzr/ctm3btm3LvzbWh8b60Mi/jvWhsT40xr/mFLycgpfDv0A01ofG+sC/MKfg5RS8vL/k5RS8nIK3v5QkSZIkSbK/kMb60Fgfqr/gh8b60Fifv0AFL6fg5YS/QAUvp+DlhD/Ah8b60FifP4DG+tBYH6o/kCRJkiRJsj/g5RS8nIK3Pyin4OUUvLw/PDTWh8b6wD/kFLycgpfDP4z1obE+NMY/NNaHxvrQyD/Ytm3btm3LP4CXU/ByCs4/FLycgpdT0D9orA+N9aHRP7qcgpdT8NI/Do31obE+1D9ifWisD43VP7Zt27Zt29Y/Cl5Owcsp2D9cTsHLKXjZP7A+NNaHxto/BC+n4OUU3D9YHxrrQ2PdP6wPjfWhsd4/AAAAAAAA4D8AAAAAAADgv6wPjfWhsd6/WR8a60Nj3b8FL6fg5RTcv7I+NNaHxtq/Xk7Byyl42b8KXk7ByynYv7dt27Zt29a/ZH1orA+N1b8QjfWhsT7Uv7ycgpdT8NK/aawPjfWh0b8VvJyCl1PQv4SXU/ByCs6/3LZt27Zty7821ofG+tDIv471obE+NMa/5hS8nIKXw79ANNaHxvrAvzCn4OUUvLy/5OUUvJyCt7+UJEmSJEmyv5DG+tBYH6q/4IfG+tBYn79ABS+n4OWEv0AFL6fg5YQ/wIfG+tBYnz+AxvrQWB+qP5AkSZIkSbI/4OUUvJyCtz8op+DlFLy8Pzw01ofG+sA/5BS8nIKXwz+M9aGxPjTGPzTWh8b60Mg/2LZt27Ztyz+Al1PwcgrOPxS8nIKXU9A/aKwPjfWh0T+6nIKXU/DSPw6N9aGxPtQ/Yn1orA+N1T+2bdu2bdvWPwpeTsHLKdg/XE7Byyl42T+wPjTWh8baPwQvp+DlFNw/WB8a60Nj3T+sD431obHePwAAAAAAAOA/AAAAAAAA4L+sD431obHev1kfGutDY92/BS+n4OUU3L+yPjTWh8bav15OwcspeNm/Cl5Owcsp2L+3bdu2bdvWv2R9aKwPjdW/EI31obE+1L+8nIKXU/DSv2msD431odG/FbycgpdT0L+El1PwcgrOv9y2bdu2bcu/NtaHxvrQyL+O9aGxPjTGv+YUvJyCl8O/QDTWh8b6wL8wp+DlFLy8v+TlFLycgre/lCRJkiRJsr+QxvrQWB+qv+CHxvrQWJ+/QAUvp+DlhL9ABS+n4OWEP8CHxvrQWJ8/gMb60Fgfqj+QJEmSJEmyP+DlFLycgrc/KKfg5RS8vD88NNaHxvrAP+QUvJyCl8M/jPWhsT40xj801ofG+tDIP9i2bdu2bcs/gJdT8HIKzj8UvJyCl1PQP2isD431odE/upyCl1Pw0j8OjfWhsT7UP2J9aKwPjdU/tm3btm3b1j8KXk7ByynYP1xOwcspeNk/sD401ofG2j8EL6fg5RTcP1gfGutDY90/rA+N9aGx3j8AAAAAAADgPwAAAAAAAOC/rA+N9aGx3r9ZHxrrQ2PdvwUvp+DlFNy/sj401ofG2r9eTsHLKXjZvwpeTsHLKdi/t23btm3b1r9kfWisD43VvxCN9aGxPtS/vJyCl1Pw0r9prA+N9aHRvxW8nIKXU9C/hJdT8HIKzr/ctm3btm3LvzbWh8b60Mi/jvWhsT40xr/mFLycgpfDv0A01ofG+sC/MKfg5RS8vL/k5RS8nIK3v5QkSZIkSbK/kMb60Fgfqr/gh8b60Fifv0AFL6fg5YS/QAUvp+DlhD/Ah8b60FifP4DG+tBYH6o/kCRJkiRJsj/g5RS8nIK3Pyin4OUUvLw/PDTWh8b6wD/kFLycgpfDP4z1obE+NMY/NNaHxvrQyD/Ytm3btm3LP4CXU/ByCs4/FLycgpdT0D9orA+N9aHRP7qcgpdT8NI/Do31obE+1D9ifWisD43VP7Zt27Zt29Y/Cl5Owcsp2D9cTsHLKXjZP7A+NNaHxto/BC+n4OUU3D9YHxrrQ2PdP6wPjfWhsd4/AAAAAAAA4D8AAAAAAADgv6wPjfWhsd6/WR8a60Nj3b8FL6fg5RTcv7I+NNaHxtq/Xk7Byyl42b8KXk7ByynYv7dt27Zt29a/ZH1orA+N1b8QjfWhsT7Uv7ycgpdT8NK/aawPjfWh0b8VvJyCl1PQv4SXU/ByCs6/3LZt27Zty7821ofG+tDIv471obE+NMa/5hS8nIKXw79ANNaHxvrAvzCn4OUUvLy/5OUUvJyCt7+UJEmSJEmyv5DG+tBYH6q/4IfG+tBYn79ABS+n4OWEv0AFL6fg5YQ/wIfG+tBYnz+AxvrQWB+qP5AkSZIkSbI/4OUUvJyCtz8op+DlFLy8Pzw01ofG+sA/5BS8nIKXwz+M9aGxPjTGPzTWh8b60Mg/2LZt27Ztyz+Al1PwcgrOPxS8nIKXU9A/aKwPjfWh0T+6nIKXU/DSPw6N9aGxPtQ/Yn1orA+N1T+2bdu2bdvWPwpeTsHLKdg/XE7Byyl42T+wPjTWh8baPwQvp+DlFNw/WB8a60Nj3T+sD431obHePwAAAAAAAOA/AAAAAAAA4L+sD431obHev1kfGutDY92/BS+n4OUU3L+yPjTWh8bav15OwcspeNm/Cl5Owcsp2L+3bdu2bdvWv2R9aKwPjdW/EI31obE+1L+8nIKXU/DSv2msD431odG/FbycgpdT0L+El1PwcgrOv9y2bdu2bcu/NtaHxvrQyL+O9aGxPjTGv+YUvJyCl8O/QDTWh8b6wL8wp+DlFLy8v+TlFLycgre/lCRJkiRJsr+QxvrQWB+qv+CHxvrQWJ+/QAUvp+DlhL9ABS+n4OWEP8CHxvrQWJ8/gMb60Fgfqj+QJEmSJEmyP+DlFLycgrc/KKfg5RS8vD88NNaHxvrAP+QUvJyCl8M/jPWhsT40xj801ofG+tDIP9i2bdu2bcs/gJdT8HIKzj8UvJyCl1PQP2isD431odE/upyCl1Pw0j8OjfWhsT7UP2J9aKwPjdU/tm3btm3b1j8KXk7ByynYP1xOwcspeNk/sD401ofG2j8EL6fg5RTcP1gfGutDY90/rA+N9aGx3j8AAAAAAADgPw==",
          "dtype": "f8",
          "shape": "25, 50"
         },
         "y": {
          "bdata": "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",
          "dtype": "f8",
          "shape": "25, 50"
         },
         "z": {
          "bdata": "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",
          "dtype": "f8",
          "shape": "25, 50"
         }
        },
        {
         "marker": {
          "color": "red",
          "size": 4,
          "symbol": "circle"
         },
         "mode": "markers",
         "name": "Market Data",
         "type": "scatter3d",
         "x": {
          "bdata": "wHxMANruXj/QhBPs13R7v+aJOiHJHq0/zcGSMOE1tr9GAYsjzM7Gv5rCdR22BKu/DXvCVWiuu78aiYUkohmrv8YlhDh7g8C/NHvgxpAunb/NmXmtLl61v0ZSOJl6sM2/c0apPPUdvT9mXTNAVeKlPw0oBpco/72/hujzVr5Fz7/G6fmu7oXJv6bbnH+Z18K/czahBMVEtz9mOEriXOWnP+ZYY7fPVKY/zSjXgqLJtL+am/i25UOqvzNS4KYdp7w/ZtuMFUS8oz8zMAv1V/S7P7MFL/bU0rw/s0nfOzgLuj+Nnc4NiRe8vw0hCM6dvr6/mB1QgJwdgz+mZCosZWPFv+b93G96AMu/hjYX8TE2yr8Ac+4XN144P2ZuDPPM4cm/s2Bh6DB6uT+zt4MbnIO4P83HXY6Sa7y/aIC+jFCihL/zvKZGkcC2P+ZvxukzZqU/zPktx7BRlD9GaBsdzZzAv2ZWo3bOOqY/mDdYfLlGiz/mv/HKEW6pP83ln66uHre/c5FQYBoouT8a9UlYsS2sv1qZZbRs1LC/aG/uovbBnr9GeaubZU/Rv9BWVJxwPI6/NKGljNeMrb8wi4x/1XKNP4b5A8kPhNG/mt7GBVhRtL+t5VGtF/XKvzRq6kejMK2/zNvLjteRpT8ane6NEiC+v2i2Yy1RsZK/Lds453qJxL/GCugr+iXUvy0nJq451cK/DVR+XyfDyL+NMvrQQnnPv7TqG9u4Y6G/GkmsCBVOt79WxJURALLSv9DgY3YRB4O/2pyFQVD/uL/2XfdWc0jQv5jJUITYqpA/TO5Rg+Zjqz9o+Zg9shOevxoegw8j272/MPFci2h0hD/MD2+oOTeoP81Hk0mbL8S/zIGowjNSoD8wJTUO7/aJP00UYNMDG86/bQkg4krxzb+aOFI+X4++v6blwrFFfLM/WqjjATecsL8aO+XHtbaxv23sIHmMk8K/Wow+vWC2tL8wPyzLyVOIP5jf4zHw0pE/YJ4+P2w+fD823B8GgovRv2bwEuyEObA/jTkZ76GVz7/NnU/SZ8vFvxZuxhqZDtG/MP/AkkxFij8=",
          "dtype": "f8"
         },
         "y": {
          "bdata": "AAAAAAAA8D8AAAAAAADwPwAAAAAAAPA/AAAAAAAA8D8AAAAAAADwPwAAAAAAAPA/AAAAAAAA8D8AAAAAAADwPwAAAAAAAPA/AAAAAAAA8D8AAAAAAADwPwAAAAAAAPA/AAAAAAAA8D8AAAAAAADwPwAAAAAAAPA/AAAAAAAA8D8AAAAAAADwPwAAAAAAAPA/AAAAAAAA8D8AAAAAAADwPwAAAAAAAPA/AAAAAAAA8D8AAAAAAADwPwAAAAAAAPA/AAAAAAAA8D8AAAAAAADwPwAAAAAAAPA/AAAAAAAA8D8AAAAAAADwPwAAAAAAAPA/AAAAAAAA8D8AAAAAAADwPwAAAAAAAPA/AAAAAAAA8D8AAAAAAADwPwAAAAAAAPA/AAAAAAAA8D8AAAAAAADwPwAAAAAAAPA/AAAAAAAA8D8AAAAAAADwPwAAAAAAAPA/AAAAAAAA8D8AAAAAAADwPwAAAAAAAPA/AAAAAAAA8D8AAAAAAADwPwAAAAAAAPA/AAAAAAAA8D8AAAAAAADwPwAAAAAAAABAAAAAAAAAAEAAAAAAAAAAQAAAAAAAAABAAAAAAAAAAEAAAAAAAAAAQAAAAAAAAABAAAAAAAAAAEAAAAAAAAAAQAAAAAAAAABAAAAAAAAAAEAAAAAAAAAAQAAAAAAAAABAAAAAAAAAAEAAAAAAAAAAQAAAAAAAAABAAAAAAAAAAEAAAAAAAAAAQAAAAAAAAABAAAAAAAAAAEAAAAAAAAAAQAAAAAAAAABAAAAAAAAAAEAAAAAAAAAAQAAAAAAAAABAAAAAAAAAAEAAAAAAAAAAQAAAAAAAAABAAAAAAAAAAEAAAAAAAAAAQAAAAAAAAABAAAAAAAAAAEAAAAAAAAAAQAAAAAAAAABAAAAAAAAAAEAAAAAAAAAAQAAAAAAAAABAAAAAAAAAAEAAAAAAAAAAQAAAAAAAAABAAAAAAAAAAEAAAAAAAAAAQAAAAAAAAABAAAAAAAAAAEAAAAAAAAAAQAAAAAAAAABAAAAAAAAAAEAAAAAAAAAAQAAAAAAAAABAAAAAAAAAAEA=",
          "dtype": "f8"
         },
         "z": {
          "bdata": "I/YWSChT2T+DfS4V3aTZP+b8P3aXa9c/xVLNSx2/3D8pZnUiRCjgP+x5du5Vads/ES8t/5SW3T8otceP7mrbP2EIam5yaN4/9+Shknx42j/6SvYX7J3cP6Z5lQMBLOE/QwMvZGfU1T9+DlUUzeHXP1N40/ua8d0/Aop18Ytm4T9IPUiAvY/gP3ZQUa40Ht8/Z7poEYJp1j9bCxqzXMDXPxmeKfFU2tc/GHoLZhGH3D/VbSeYoVrbP0BoGuJ439U/P4YipfkF2D+qt5EkYPDVP5A7gZFi29U/t02f+Skg1j8O39ievKbdP4s6heL3Dt4/jqoRhk4N2T+XBiC7ZuPfPwdF3SqPx+A/6cW3c8ep4D/uZtaMfmHZP0YS/29SneA/vEMzF8Mu1j/3Kg9/BkjWP2hQYb2ls90/vpul1DnF2T+YpZs6qHfWP5NNg2Ts6dc/Xa+KmHOs2D8yStG6MHDeP/3mYNYG3Nc/6TVIxVTo2D9Gq/fKJ6fXP0ji/aDx4tw/IQqZURw31j+MfY9CAYDbP3qeyTk4GNM/8sQMmso70j+J1SVG8vnXP0eOUXor39E/Y2XyX1bm0j+QJANSCzPRP04X9PajDNg/9KlftiVt0z/28fj8XpfWP6YeuOj44dI/Bb4aTSyX0D8mdEzUZFzUP8I71As49NE/KCUSIrFl1T8Y41varfjYP0ZhHmN4E9U/cvfKiKov1j8KPalLzWnXP6nn8KTOU9I/EaRiHAa20z/rM5TVH3fYP/9VsexUvtE/Igil/VPf0z89hPF6E5zXP6aENCQaKNE/2ySvi0Za0D+O0NHBuzfSP8QhMnXVVdQ/+H2fyIFM0T+ks/8bQHvQP/DLzRbJVNU/G06ea6fP0D/kz5qY4jzRP4kaebh8Ktc/vV5OY+si1z+Xf+ef+2bUP9Rc5lW6zs8/Qd1rAuIS0z+BsTOZty3TP2f3KUMPB9U/Xo0SQMV20z+FmoMUhUHRP9sHYE6bIdE/Uv+FNoxe0T+cq/feRw/YP0eE5AT9JtA/FKfN9Olu1z/mmz47GqLVP0T5NGHl4tc/b2sz8gQ80T8=",
          "dtype": "f8"
         }
        }
       ],
       "layout": {
        "height": 700,
        "scene": {
         "xaxis": {
          "title": {
           "text": "Log-Forward Moneyness (k)"
          }
         },
         "yaxis": {
          "title": {
           "text": "Expiry (T)"
          }
         },
         "zaxis": {
          "title": {
           "text": "Implied Volatility"
          }
         }
        },
        "template": {
         "data": {
          "bar": [
           {
            "error_x": {
             "color": "#2a3f5f"
            },
            "error_y": {
             "color": "#2a3f5f"
            },
            "marker": {
             "line": {
              "color": "#E5ECF6",
              "width": 0.5
             },
             "pattern": {
              "fillmode": "overlay",
              "size": 10,
              "solidity": 0.2
             }
            },
            "type": "bar"
           }
          ],
          "barpolar": [
           {
            "marker": {
             "line": {
              "color": "#E5ECF6",
              "width": 0.5
             },
             "pattern": {
              "fillmode": "overlay",
              "size": 10,
              "solidity": 0.2
             }
            },
            "type": "barpolar"
           }
          ],
          "carpet": [
           {
            "aaxis": {
             "endlinecolor": "#2a3f5f",
             "gridcolor": "white",
             "linecolor": "white",
             "minorgridcolor": "white",
             "startlinecolor": "#2a3f5f"
            },
            "baxis": {
             "endlinecolor": "#2a3f5f",
             "gridcolor": "white",
             "linecolor": "white",
             "minorgridcolor": "white",
             "startlinecolor": "#2a3f5f"
            },
            "type": "carpet"
           }
          ],
          "choropleth": [
           {
            "colorbar": {
             "outlinewidth": 0,
             "ticks": ""
            },
            "type": "choropleth"
           }
          ],
          "contour": [
           {
            "colorbar": {
             "outlinewidth": 0,
             "ticks": ""
            },
            "colorscale": [
             [
              0,
              "#0d0887"
             ],
             [
              0.1111111111111111,
              "#46039f"
             ],
             [
              0.2222222222222222,
              "#7201a8"
             ],
             [
              0.3333333333333333,
              "#9c179e"
             ],
             [
              0.4444444444444444,
              "#bd3786"
             ],
             [
              0.5555555555555556,
              "#d8576b"
             ],
             [
              0.6666666666666666,
              "#ed7953"
             ],
             [
              0.7777777777777778,
              "#fb9f3a"
             ],
             [
              0.8888888888888888,
              "#fdca26"
             ],
             [
              1,
              "#f0f921"
             ]
            ],
            "type": "contour"
           }
          ],
          "contourcarpet": [
           {
            "colorbar": {
             "outlinewidth": 0,
             "ticks": ""
            },
            "type": "contourcarpet"
           }
          ],
          "heatmap": [
           {
            "colorbar": {
             "outlinewidth": 0,
             "ticks": ""
            },
            "colorscale": [
             [
              0,
              "#0d0887"
             ],
             [
              0.1111111111111111,
              "#46039f"
             ],
             [
              0.2222222222222222,
              "#7201a8"
             ],
             [
              0.3333333333333333,
              "#9c179e"
             ],
             [
              0.4444444444444444,
              "#bd3786"
             ],
             [
              0.5555555555555556,
              "#d8576b"
             ],
             [
              0.6666666666666666,
              "#ed7953"
             ],
             [
              0.7777777777777778,
              "#fb9f3a"
             ],
             [
              0.8888888888888888,
              "#fdca26"
             ],
             [
              1,
              "#f0f921"
             ]
            ],
            "type": "heatmap"
           }
          ],
          "histogram": [
           {
            "marker": {
             "pattern": {
              "fillmode": "overlay",
              "size": 10,
              "solidity": 0.2
             }
            },
            "type": "histogram"
           }
          ],
          "histogram2d": [
           {
            "colorbar": {
             "outlinewidth": 0,
             "ticks": ""
            },
            "colorscale": [
             [
              0,
              "#0d0887"
             ],
             [
              0.1111111111111111,
              "#46039f"
             ],
             [
              0.2222222222222222,
              "#7201a8"
             ],
             [
              0.3333333333333333,
              "#9c179e"
             ],
             [
              0.4444444444444444,
              "#bd3786"
             ],
             [
              0.5555555555555556,
              "#d8576b"
             ],
             [
              0.6666666666666666,
              "#ed7953"
             ],
             [
              0.7777777777777778,
              "#fb9f3a"
             ],
             [
              0.8888888888888888,
              "#fdca26"
             ],
             [
              1,
              "#f0f921"
             ]
            ],
            "type": "histogram2d"
           }
          ],
          "histogram2dcontour": [
           {
            "colorbar": {
             "outlinewidth": 0,
             "ticks": ""
            },
            "colorscale": [
             [
              0,
              "#0d0887"
             ],
             [
              0.1111111111111111,
              "#46039f"
             ],
             [
              0.2222222222222222,
              "#7201a8"
             ],
             [
              0.3333333333333333,
              "#9c179e"
             ],
             [
              0.4444444444444444,
              "#bd3786"
             ],
             [
              0.5555555555555556,
              "#d8576b"
             ],
             [
              0.6666666666666666,
              "#ed7953"
             ],
             [
              0.7777777777777778,
              "#fb9f3a"
             ],
             [
              0.8888888888888888,
              "#fdca26"
             ],
             [
              1,
              "#f0f921"
             ]
            ],
            "type": "histogram2dcontour"
           }
          ],
          "mesh3d": [
           {
            "colorbar": {
             "outlinewidth": 0,
             "ticks": ""
            },
            "type": "mesh3d"
           }
          ],
          "parcoords": [
           {
            "line": {
             "colorbar": {
              "outlinewidth": 0,
              "ticks": ""
             }
            },
            "type": "parcoords"
           }
          ],
          "pie": [
           {
            "automargin": true,
            "type": "pie"
           }
          ],
          "scatter": [
           {
            "fillpattern": {
             "fillmode": "overlay",
             "size": 10,
             "solidity": 0.2
            },
            "type": "scatter"
           }
          ],
          "scatter3d": [
           {
            "line": {
             "colorbar": {
              "outlinewidth": 0,
              "ticks": ""
             }
            },
            "marker": {
             "colorbar": {
              "outlinewidth": 0,
              "ticks": ""
             }
            },
            "type": "scatter3d"
           }
          ],
          "scattercarpet": [
           {
            "marker": {
             "colorbar": {
              "outlinewidth": 0,
              "ticks": ""
             }
            },
            "type": "scattercarpet"
           }
          ],
          "scattergeo": [
           {
            "marker": {
             "colorbar": {
              "outlinewidth": 0,
              "ticks": ""
             }
            },
            "type": "scattergeo"
           }
          ],
          "scattergl": [
           {
            "marker": {
             "colorbar": {
              "outlinewidth": 0,
              "ticks": ""
             }
            },
            "type": "scattergl"
           }
          ],
          "scattermap": [
           {
            "marker": {
             "colorbar": {
              "outlinewidth": 0,
              "ticks": ""
             }
            },
            "type": "scattermap"
           }
          ],
          "scattermapbox": [
           {
            "marker": {
             "colorbar": {
              "outlinewidth": 0,
              "ticks": ""
             }
            },
            "type": "scattermapbox"
           }
          ],
          "scatterpolar": [
           {
            "marker": {
             "colorbar": {
              "outlinewidth": 0,
              "ticks": ""
             }
            },
            "type": "scatterpolar"
           }
          ],
          "scatterpolargl": [
           {
            "marker": {
             "colorbar": {
              "outlinewidth": 0,
              "ticks": ""
             }
            },
            "type": "scatterpolargl"
           }
          ],
          "scatterternary": [
           {
            "marker": {
             "colorbar": {
              "outlinewidth": 0,
              "ticks": ""
             }
            },
            "type": "scatterternary"
           }
          ],
          "surface": [
           {
            "colorbar": {
             "outlinewidth": 0,
             "ticks": ""
            },
            "colorscale": [
             [
              0,
              "#0d0887"
             ],
             [
              0.1111111111111111,
              "#46039f"
             ],
             [
              0.2222222222222222,
              "#7201a8"
             ],
             [
              0.3333333333333333,
              "#9c179e"
             ],
             [
              0.4444444444444444,
              "#bd3786"
             ],
             [
              0.5555555555555556,
              "#d8576b"
             ],
             [
              0.6666666666666666,
              "#ed7953"
             ],
             [
              0.7777777777777778,
              "#fb9f3a"
             ],
             [
              0.8888888888888888,
              "#fdca26"
             ],
             [
              1,
              "#f0f921"
             ]
            ],
            "type": "surface"
           }
          ],
          "table": [
           {
            "cells": {
             "fill": {
              "color": "#EBF0F8"
             },
             "line": {
              "color": "white"
             }
            },
            "header": {
             "fill": {
              "color": "#C8D4E3"
             },
             "line": {
              "color": "white"
             }
            },
            "type": "table"
           }
          ]
         },
         "layout": {
          "annotationdefaults": {
           "arrowcolor": "#2a3f5f",
           "arrowhead": 0,
           "arrowwidth": 1
          },
          "autotypenumbers": "strict",
          "coloraxis": {
           "colorbar": {
            "outlinewidth": 0,
            "ticks": ""
           }
          },
          "colorscale": {
           "diverging": [
            [
             0,
             "#8e0152"
            ],
            [
             0.1,
             "#c51b7d"
            ],
            [
             0.2,
             "#de77ae"
            ],
            [
             0.3,
             "#f1b6da"
            ],
            [
             0.4,
             "#fde0ef"
            ],
            [
             0.5,
             "#f7f7f7"
            ],
            [
             0.6,
             "#e6f5d0"
            ],
            [
             0.7,
             "#b8e186"
            ],
            [
             0.8,
             "#7fbc41"
            ],
            [
             0.9,
             "#4d9221"
            ],
            [
             1,
             "#276419"
            ]
           ],
           "sequential": [
            [
             0,
             "#0d0887"
            ],
            [
             0.1111111111111111,
             "#46039f"
            ],
            [
             0.2222222222222222,
             "#7201a8"
            ],
            [
             0.3333333333333333,
             "#9c179e"
            ],
            [
             0.4444444444444444,
             "#bd3786"
            ],
            [
             0.5555555555555556,
             "#d8576b"
            ],
            [
             0.6666666666666666,
             "#ed7953"
            ],
            [
             0.7777777777777778,
             "#fb9f3a"
            ],
            [
             0.8888888888888888,
             "#fdca26"
            ],
            [
             1,
             "#f0f921"
            ]
           ],
           "sequentialminus": [
            [
             0,
             "#0d0887"
            ],
            [
             0.1111111111111111,
             "#46039f"
            ],
            [
             0.2222222222222222,
             "#7201a8"
            ],
            [
             0.3333333333333333,
             "#9c179e"
            ],
            [
             0.4444444444444444,
             "#bd3786"
            ],
            [
             0.5555555555555556,
             "#d8576b"
            ],
            [
             0.6666666666666666,
             "#ed7953"
            ],
            [
             0.7777777777777778,
             "#fb9f3a"
            ],
            [
             0.8888888888888888,
             "#fdca26"
            ],
            [
             1,
             "#f0f921"
            ]
           ]
          },
          "colorway": [
           "#636efa",
           "#EF553B",
           "#00cc96",
           "#ab63fa",
           "#FFA15A",
           "#19d3f3",
           "#FF6692",
           "#B6E880",
           "#FF97FF",
           "#FECB52"
          ],
          "font": {
           "color": "#2a3f5f"
          },
          "geo": {
           "bgcolor": "white",
           "lakecolor": "white",
           "landcolor": "#E5ECF6",
           "showlakes": true,
           "showland": true,
           "subunitcolor": "white"
          },
          "hoverlabel": {
           "align": "left"
          },
          "hovermode": "closest",
          "mapbox": {
           "style": "light"
          },
          "paper_bgcolor": "white",
          "plot_bgcolor": "#E5ECF6",
          "polar": {
           "angularaxis": {
            "gridcolor": "white",
            "linecolor": "white",
            "ticks": ""
           },
           "bgcolor": "#E5ECF6",
           "radialaxis": {
            "gridcolor": "white",
            "linecolor": "white",
            "ticks": ""
           }
          },
          "scene": {
           "xaxis": {
            "backgroundcolor": "#E5ECF6",
            "gridcolor": "white",
            "gridwidth": 2,
            "linecolor": "white",
            "showbackground": true,
            "ticks": "",
            "zerolinecolor": "white"
           },
           "yaxis": {
            "backgroundcolor": "#E5ECF6",
            "gridcolor": "white",
            "gridwidth": 2,
            "linecolor": "white",
            "showbackground": true,
            "ticks": "",
            "zerolinecolor": "white"
           },
           "zaxis": {
            "backgroundcolor": "#E5ECF6",
            "gridcolor": "white",
            "gridwidth": 2,
            "linecolor": "white",
            "showbackground": true,
            "ticks": "",
            "zerolinecolor": "white"
           }
          },
          "shapedefaults": {
           "line": {
            "color": "#2a3f5f"
           }
          },
          "ternary": {
           "aaxis": {
            "gridcolor": "white",
            "linecolor": "white",
            "ticks": ""
           },
           "baxis": {
            "gridcolor": "white",
            "linecolor": "white",
            "ticks": ""
           },
           "bgcolor": "#E5ECF6",
           "caxis": {
            "gridcolor": "white",
            "linecolor": "white",
            "ticks": ""
           }
          },
          "title": {
           "x": 0.05
          },
          "xaxis": {
           "automargin": true,
           "gridcolor": "white",
           "linecolor": "white",
           "ticks": "",
           "title": {
            "standoff": 15
           },
           "zerolinecolor": "white",
           "zerolinewidth": 2
          },
          "yaxis": {
           "automargin": true,
           "gridcolor": "white",
           "linecolor": "white",
           "ticks": "",
           "title": {
            "standoff": 15
           },
           "zerolinecolor": "white",
           "zerolinewidth": 2
          }
         }
        },
        "title": {
         "text": "Calibrated SVI Volatility Surface vs. Market Data"
        },
        "width": 900
       }
      }
     },
     "metadata": {},
     "output_type": "display_data"
    }
   ],
   "source": [
    "# Create a grid of moneyness and expiry points for the surface plot\n",
    "moneyness_grid = np.linspace(-0.5, 0.5, 50)\n",
    "expiry_grid = np.linspace(1.0, 2.0, 25)\n",
    "X, Y = np.meshgrid(moneyness_grid, expiry_grid)\n",
    "Z = np.array([surface.volatility(m, e) for m, e in zip(X.ravel(), Y.ravel())]).reshape(X.shape)\n",
    "\n",
    "# Create the surface plot\n",
    "surface_plot = go.Surface(x=X, y=Y, z=Z, colorscale='Viridis', opacity=0.8, name='Calibrated SVI Surface')\n",
    "\n",
    "# Prepare market data for scatter plot\n",
    "market_data = []\n",
    "for opt in all_options:\n",
    "    try:\n",
    "        vol = implied_volatility_py(opt, opt.price)\n",
    "        market_data.append({'moneyness': opt.moneyness(), 'expiry': opt.expiry, 'market_vol': vol})\n",
    "    except CalibrationError:\n",
    "        pass # Ignore options where implied vol fails\n",
    "df = pd.DataFrame(market_data)\n",
    "\n",
    "scatter_plot = go.Scatter3d(\n",
    "    x=df['moneyness'], y=df['expiry'], z=df['market_vol'],\n",
    "    mode='markers',\n",
    "    marker=dict(size=4, color='red', symbol='circle'),\n",
    "    name='Market Data'\n",
    ")\n",
    "\n",
    "fig = go.Figure(data=[surface_plot, scatter_plot])\n",
    "fig.update_layout(\n",
    "    title='Calibrated SVI Volatility Surface vs. Market Data',\n",
    "    scene=dict(\n",
    "        xaxis_title='Log-Forward Moneyness (k)',\n",
    "        yaxis_title='Expiry (T)',\n",
    "        zaxis_title='Implied Volatility'\n",
    "    ),\n",
    "    width=900, height=700\n",
    ")\n",
    "fig.show()"
   ]
  }
 ],
 "metadata": {
  "kernelspec": {
   "display_name": ".venv",
   "language": "python",
   "name": "python3"
  },
  "language_info": {
   "codemirror_mode": {
    "name": "ipython",
    "version": 3
   },
   "file_extension": ".py",
   "mimetype": "text/x-python",
   "name": "python",
   "nbconvert_exporter": "python",
   "pygments_lexer": "ipython3",
   "version": "3.12.1"
  }
 },
 "nbformat": 4,
 "nbformat_minor": 2
}
