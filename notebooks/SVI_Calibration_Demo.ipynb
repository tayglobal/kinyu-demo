{
 "cells": [
  {
   "cell_type": "markdown",
   "metadata": {},
   "source": [
    "# SVI Volatility Surface Calibration Demo\n",
    "\n",
    "This notebook demonstrates how to use the `implied` Rust library with Python bindings to calibrate an SVI (Stochastic Volatility Inspired) volatility surface from a set of option prices."
   ]
  },
  {
   "cell_type": "markdown",
   "metadata": {},
   "source": [
    "## 1. Installation\n",
    "\n",
    "First, we need to install the `implied` library from the wheel we just built. We also need to install `pandas`, `numpy`, and `plotly` for data manipulation and visualization."
   ]
  },
  {
   "cell_type": "code",
   "execution_count": null,
   "metadata": {},
   "outputs": [],
   "source": [
    "!pip install /app/wheels/implied-0.1.0-cp312-cp312-manylinux_2_34_x86_64.whl pandas numpy plotly"
   ]
  },
  {
   "cell_type": "markdown",
   "metadata": {},
   "source": [
    "## 2. Imports\n",
    "\n",
    "Now, let's import the necessary libraries."
   ]
  },
  {
   "cell_type": "code",
   "execution_count": null,
   "metadata": {},
   "outputs": [],
   "source": [
    "import numpy as np\n",
    "import pandas as pd\n",
    "import plotly.graph_objects as go\n",
    "from implied import OptionData, OptionType, SVIVolatilitySurface, SVIParameters"
   ]
  },
  {
   "cell_type": "markdown",
   "metadata": {},
   "source": [
    "## 3. Data Generation\n",
    "\n",
    "To test the calibration, we will generate a realistic set of option prices. We'll create a synthetic market where the \"true\" volatility smile is governed by a known set of SVI parameters for two different expiries (1 year and 2 years)."
   ]
  },
  {
   "cell_type": "code",
   "execution_count": null,
   "metadata": {},
   "outputs": [],
   "source": [
    "def black_scholes_price(spot, strike, risk_free_rate, time_to_expiry, volatility, option_type):\n",
    "    from scipy.stats import norm\n",
    "    if time_to_expiry <= 0 or volatility <= 0:\n",
    "        return max(0, spot - strike) if option_type == OptionType.Call else max(0, strike - spot)\n",
    "\n",
    "    d1 = (np.log(spot / strike) + (risk_free_rate + 0.5 * volatility ** 2) * time_to_expiry) / (volatility * np.sqrt(time_to_expiry))\n",
    "    d2 = d1 - volatility * np.sqrt(time_to_expiry)\n",
    "\n",
    "    if option_type == OptionType.Call:\n",
    "        price = spot * norm.cdf(d1) - strike * np.exp(-risk_free_rate * time_to_expiry) * norm.cdf(d2)\n",
    "    else:\n",
    "        price = strike * np.exp(-risk_free_rate * time_to_expiry) * norm.cdf(-d2) - spot * norm.cdf(-d1)\n",
    "    return price\n",
    "\n",
    "def generate_realistic_options(num_options, expiry, true_svi):\n",
    "    spot = 100.0\n",
    "    risk_free_rate = 0.05\n",
    "    options = []\n",
    "    for _ in range(num_options):\n",
    "        strike = np.random.uniform(80, 120)\n",
    "        moneyness = np.log(strike / (spot * np.exp(risk_free_rate * expiry)))\n",
    "        \n",
    "        total_variance = true_svi.a + true_svi.b * (true_svi.rho * (moneyness - true_svi.m) + np.sqrt((moneyness - true_svi.m)**2 + true_svi.sigma**2))\n",
    "        if total_variance < 0:\n",
    "            continue\n",
    "        \n",
    "        vol = np.sqrt(total_variance / expiry)\n",
    "        price = black_scholes_price(spot, strike, risk_free_rate, expiry, vol, OptionType.Call)\n",
    "        \n",
    "        options.append(OptionData(\n",
    "            strike=strike, \n",
    "            spot=spot, \n",
    "            expiry=expiry, \n",
    "            price=price, \n",
    "            risk_free_rate=risk_free_rate, \n",
    "            option_type=OptionType.Call\n",
    "        ))\n",
    "    return options\n",
    "\n",
    "# Define the \"true\" SVI parameters for our synthetic market\n",
    "true_svi_1y = SVIParameters(a=0.04, b=0.4, rho=-0.7, m=0.1, sigma=0.2)\n",
    "true_svi_2y = SVIParameters(a=0.035, b=0.35, rho=-0.65, m=0.12, sigma=0.22)\n",
    "\n",
    "# Generate options for two expiries\n",
    "options_1y = generate_realistic_options(50, 1.0, true_svi_1y)\n",
    "options_2y = generate_realistic_options(50, 2.0, true_svi_2y)\n",
    "all_options = options_1y + options_2y\n",
    "\n",
    "print(f\"Generated {len(all_options)} options.\")"
   ]
  },
  {
   "cell_type": "markdown",
   "metadata": {},
   "source": [
    "## 4. Calibrate the SVI Surface\n",
    "\n",
    "Now, we pass the list of `OptionData` objects to the `SVIVolatilitySurface.calibrate` method. The Rust backend will group the options by expiry, calibrate a separate SVI slice for each, and return a surface object."
   ]
  },
  {
   "cell_type": "code",
   "execution_count": null,
   "metadata": {},
   "outputs": [],
   "source": [
    "try:\n",
    "    surface = SVIVolatilitySurface.calibrate(all_options)\n",
    "    print(\"SVI surface calibrated successfully!\")\n",
    "except Exception as e:\n",
    "    print(f\"Calibration failed: {e}\")"
   ]
  },
  {
   "cell_type": "markdown",
   "metadata": {},
   "source": [
    "## 5. Query the Volatility Surface\n",
    "\n",
    "We can now use the `volatility` method on the calibrated surface to get the implied volatility for any moneyness and expiry. The library will find the closest calibrated expiry slice to the one requested."
   ]
  },
  {
   "cell_type": "code",
   "execution_count": null,
   "metadata": {},
   "outputs": [],
   "source": [
    "# Exact expiry match\n",
    "vol_1y = surface.volatility(moneyness=0.05, expiry=1.0)\n",
    "print(f\"Volatility at moneyness=0.05, expiry=1.0y: {vol_1y:.4f}\")\n",
    "\n",
    "# Closest expiry match\n",
    "vol_1_1y = surface.volatility(moneyness=0.05, expiry=1.1) # Should use the 1.0y slice\n",
    "print(f\"Volatility at moneyness=0.05, expiry=1.1y: {vol_1_1y:.4f}\")\n",
    "\n",
    "vol_1_8y = surface.volatility(moneyness=0.05, expiry=1.8) # Should use the 2.0y slice\n",
    "print(f\"Volatility at moneyness=0.05, expiry=1.8y: {vol_1_8y:.4f}\")"
   ]
  },
  {
   "cell_type": "markdown",
   "metadata": {},
   "source": [
    "## 6. Visualize the Calibrated Surface\n",
    "\n",
    "Finally, let's visualize the result. We will create a 3D plot showing the calibrated SVI surface and overlay the original market data points (our synthetic options) to see how well the model fits."
   ]
  },
  {
   "cell_type": "code",
   "execution_count": null,
   "metadata": {},
   "outputs": [],
   "source": [
    "# Create a grid of moneyness and expiry points for the surface plot\n",
    "moneyness_grid = np.linspace(-0.5, 0.5, 50)\n",
    "expiry_grid = np.linspace(1.0, 2.0, 25)\n",
    "X, Y = np.meshgrid(moneyness_grid, expiry_grid)\n",
    "Z = np.array([surface.volatility(m, e) for m, e in zip(X.ravel(), Y.ravel())]).reshape(X.shape)\n",
    "\n",
    "# Create the surface plot\n",
    "surface_plot = go.Surface(x=X, y=Y, z=Z, colorscale='Viridis', opacity=0.8, name='Calibrated SVI Surface')\n",
    "\n",
    "# Prepare market data for scatter plot\n",
    "df = pd.DataFrame([{'moneyness': opt.moneyness(), 'expiry': opt.expiry, 'price': opt.price, 'spot': opt.spot, 'strike': opt.strike, 'risk_free_rate': opt.risk_free_rate, 'type': opt.option_type} for opt in all_options])\n",
    "df['market_vol'] = df.apply(lambda row: np.sqrt(pricing.implied_volatility(row, row['price'])[0]**2) if pricing.implied_volatility(row, row['price']) else np.nan, axis=1)\n",
    "\n",
    "scatter_plot = go.Scatter3d(\n",
    "    x=df['moneyness'], y=df['expiry'], z=df['market_vol'],\n",
    "    mode='markers',\n",
    "    marker=dict(size=4, color='red', symbol='circle'),\n",
    "    name='Market Data'\n",
    ")\n",
    "\n",
    "fig = go.Figure(data=[surface_plot, scatter_plot])\n",
    "fig.update_layout(\n",
    "    title='Calibrated SVI Volatility Surface vs. Market Data',\n",
    "    scene=dict(\n",
    "        xaxis_title='Log-Forward Moneyness (k)',\n",
    "        yaxis_title='Expiry (T)',\n",
    "        zaxis_title='Implied Volatility'\n",
    "    ),\n",
    "    width=900, height=700\n",
    ")\n",
    "fig.show()"
   ]
  }
 ],
 "metadata": {
  "kernelspec": {
   "display_name": "Python 3",
   "language": "python",
   "name": "python3"
  },
  "language_info": {
   "codemirror_mode": {
    "name": "ipython",
    "version": 3
   },
   "file_extension": ".py",
   "mimetype": "text/x-python",
   "name": "python",
   "nbconvert_exporter": "python",
   "pygments_lexer": "ipython3",
   "version": "3.12.11"
  }
 },
 "nbformat": 4,
 "nbformat_minor": 2
}